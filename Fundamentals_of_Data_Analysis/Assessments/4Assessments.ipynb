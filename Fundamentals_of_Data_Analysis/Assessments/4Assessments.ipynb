{
 "cells": [
  {
   "cell_type": "markdown",
   "metadata": {},
   "source": [
    "<h1>Tasks 2020 for the Fundamentals of Data Analysis.<h1>\n",
    "\n",
    "\n",
    "\n",
    "\n",
    "\n",
    "\n"
   ]
  },
  {
   "cell_type": "markdown",
   "metadata": {},
   "source": [
    "##  Task number 1.\n",
    "\n",
    "\n",
    "October 5th, 2020: Write a Python function called counts that takes a list as\n",
    "input and returns a dictionary of unique items in the list as keys and the number of\n",
    "times each item appears as values. So, the input ['A', 'A', 'B', 'C', 'A']\n",
    "should have output {'A': 3, 'B': 1, 'C': 1} . Your code should not depend\n",
    "on any module from the standard library1 or otherwise. You should research\n",
    "the task first and include a description with references of your algorithm in the\n",
    "notebook."
   ]
  },
  {
   "cell_type": "code",
   "execution_count": 11,
   "metadata": {},
   "outputs": [
    {
     "output_type": "stream",
     "name": "stdout",
     "text": [
      "{'A': 3, 'B': 1, 'C': 1}\n"
     ]
    }
   ],
   "source": [
    "#I am defining the list first \n",
    "my_list = ['A', 'A', 'B', 'C', 'A']\n",
    "\n",
    "#now I am writing proper fucntion\n",
    "def counts(my_list):\n",
    "\n",
    "# I am creating an empty dictionary for further data \n",
    "    counter = {} \n",
    "\n",
    "    #countings i in my listof times each item appears as values\n",
    "    for i in my_list:\n",
    "        counter[i] = counter.get(i, 0) + 1\n",
    "       \n",
    "       \n",
    "#returns the elementCount dicitonary to the terminal\n",
    "    return counter\n",
    "\n",
    "\n",
    "print (counts(my_list))"
   ]
  },
  {
   "source": [
    "##  Task number 2.\n",
    "November 2nd, 2020: Write a Python function called dicerolls that simulates\n",
    "rolling dice. Your function should take two parameters: the number of dice k and\n",
    "the number of times to roll the dice n. The function should simulate randomly\n",
    "rolling k dice n times, keeping track of each total face value. It should then return\n",
    "a dictionary with the number of times each possible total face value occurred. So,\n",
    "calling the function as diceroll(k=2, n=1000) should return a dictionary like:\n",
    "{2:19,3:50,4:82,5:112,6:135,7:174,8:133,9:114,10:75,11:70,12:36}\n",
    "You can use any module from the Python standard library you wish and you should\n",
    "include a description with references of your algorithm in the notebook."
   ],
   "cell_type": "markdown",
   "metadata": {}
  },
  {
   "cell_type": "code",
   "execution_count": 87,
   "metadata": {},
   "outputs": [
    {
     "output_type": "stream",
     "name": "stdout",
     "text": [
      "{2: 31, 3: 47, 4: 81, 5: 115, 6: 133, 7: 180, 8: 135, 9: 122, 10: 83, 11: 50, 12: 23}\n"
     ]
    }
   ],
   "source": [
    "#defining a the function with 2 parameters: k and n - the number of dice k and\n",
    "#the number of times to roll the dice n.\n",
    "#importing random as I need randint library\n",
    "\n",
    "import random\n",
    "def diceroll(k, n, dice_sides=6):\n",
    "    # defining a dictionary with the number of times each possible total face value occurred\n",
    "    counter = {n : 0 for n in range(k, k*dice_sides + 1)} #as dice has 6 sides\n",
    "\n",
    "    # running the programm\n",
    "    for i in range(n):\n",
    "        dice_sum = sum(random.choices(range(1, dice_sides + 1), k = k))\n",
    "        counter[dice_sum] += 1\n",
    "    return counter\n",
    "\n",
    "print (diceroll(2, 1000))\n",
    "\n",
    "\n",
    "\n"
   ]
  },
  {
   "source": [
    "##  Task number 3.\n",
    "\n",
    "November 16th, 2020: The numpy.random.binomial function can be used to\n",
    "simulate flipping a coin with a 50/50 chance of heads or tails. Interestingly, if a\n",
    "coin is flipped many times then the number of heads is well approximated by a\n",
    "bell-shaped curve. For instance, if we flip a coin 100 times in a row the chance of\n",
    "getting 50 heads is relatively high, the chances of getting 0 or 100 heads is relatively\n",
    "low, and the chances of getting any other number of heads decreases as you move\n",
    "away from 50 in either direction towards 0 or 100. Write some python code that\n",
    "simulates flipping a coin 100 times. Then run this code 1,000 times, keeping track\n",
    "of the number of heads in each of the 1,000 simulations. Select an appropriate\n",
    "plot to depict the resulting list of 1,000 numbers, showing that it roughly follows\n",
    "a bell-shaped curve. You should explain your work in a Markdown cell above the\n",
    "code."
   ],
   "cell_type": "markdown",
   "metadata": {}
  },
  {
   "cell_type": "code",
   "execution_count": 1,
   "metadata": {},
   "outputs": [
    {
     "output_type": "stream",
     "name": "stdout",
     "text": [
      "[62, 54, 50, 44, 50, 47, 43, 49, 49, 51, 50, 52, 50, 48, 47, 46, 57, 48, 48, 56, 53, 41, 52, 54, 58, 51, 52, 47, 42, 51, 52, 56, 45, 50, 56, 58, 57, 45, 46, 48, 43, 56, 55, 52, 48, 57, 40, 54, 62, 41, 47, 49, 51, 52, 50, 56, 57, 38, 48, 54, 49, 53, 57, 57, 53, 51, 48, 57, 51, 51, 46, 50, 58, 55, 49, 47, 41, 50, 55, 48, 51, 40, 55, 43, 51, 45, 43, 41, 44, 52, 54, 54, 49, 65, 45, 50, 55, 47, 46, 43, 55, 57, 49, 57, 51, 56, 52, 61, 50, 51, 45, 55, 43, 50, 47, 47, 52, 40, 40, 42, 46, 53, 47, 38, 56, 54, 48, 46, 56, 43, 62, 51, 42, 55, 47, 48, 58, 55, 49, 48, 47, 42, 54, 52, 49, 45, 52, 55, 49, 53, 47, 50, 47, 44, 48, 52, 50, 44, 48, 55, 42, 51, 39, 43, 48, 45, 51, 55, 41, 46, 58, 37, 48, 53, 52, 47, 51, 50, 52, 54, 48, 53, 42, 49, 51, 54, 46, 53, 43, 51, 49, 50, 42, 49, 55, 37, 53, 45, 51, 53, 43, 50, 46, 47, 55, 50, 55, 49, 43, 50, 53, 52, 56, 49, 50, 48, 58, 57, 52, 52, 46, 49, 46, 54, 50, 51, 51, 48, 47, 45, 50, 51, 45, 49, 49, 54, 45, 50, 58, 58, 55, 51, 54, 56, 50, 48, 47, 44, 49, 46, 56, 53, 59, 47, 53, 57, 49, 52, 43, 56, 45, 51, 56, 53, 45, 47, 59, 47, 42, 56, 42, 45, 50, 46, 43, 44, 51, 51, 50, 46, 54, 50, 53, 56, 47, 44, 55, 46, 40, 57, 48, 48, 52, 58, 47, 44, 52, 47, 38, 55, 51, 47, 57, 50, 49, 57, 48, 44, 51, 43, 70, 46, 48, 61, 51, 49, 52, 41, 57, 45, 47, 52, 49, 40, 43, 56, 55, 45, 45, 53, 48, 53, 51, 45, 45, 44, 40, 48, 43, 53, 44, 50, 47, 47, 51, 51, 45, 47, 53, 53, 44, 48, 42, 42, 45, 45, 51, 42, 50, 54, 55, 54, 54, 50, 50, 56, 49, 43, 51, 54, 53, 49, 52, 59, 48, 54, 50, 47, 46, 52, 46, 52, 44, 50, 53, 52, 46, 45, 52, 48, 52, 59, 55, 48, 51, 42, 54, 51, 42, 52, 46, 53, 55, 47, 59, 53, 45, 55, 53, 46, 53, 51, 50, 49, 54, 50, 47, 60, 51, 49, 54, 54, 48, 53, 62, 44, 50, 47, 48, 52, 43, 43, 56, 43, 40, 51, 55, 49, 54, 51, 44, 55, 48, 54, 52, 55, 52, 46, 48, 48, 38, 44, 53, 41, 46, 49, 39, 59, 48, 46, 58, 53, 56, 47, 50, 54, 52, 52, 44, 56, 51, 52, 58, 49, 48, 38, 56, 46, 48, 52, 59, 57, 50, 51, 48, 54, 45, 54, 55, 50, 39, 51, 52, 48, 49, 49, 55, 54, 48, 47, 48, 47, 47, 54, 54, 44, 49, 49, 51, 48, 45, 43, 50, 54, 50, 49, 50, 46, 49, 56, 44, 50, 51, 47, 52, 48, 59, 55, 51, 57, 54, 57, 38, 47, 49, 52, 50, 53, 52, 45, 49, 52, 52, 45, 46, 38, 47, 45, 51, 49, 53, 52, 59, 59, 57, 45, 47, 44, 53, 50, 50, 50, 47, 50, 50, 55, 55, 55, 54, 46, 49, 38, 50, 53, 53, 57, 51, 56, 55, 52, 52, 49, 49, 53, 44, 47, 51, 49, 49, 61, 65, 55, 56, 57, 43, 45, 48, 46, 54, 59, 48, 47, 58, 49, 50, 54, 45, 57, 47, 51, 53, 48, 42, 49, 56, 53, 52, 51, 53, 53, 58, 43, 56, 60, 38, 54, 48, 46, 54, 49, 51, 40, 48, 46, 47, 54, 38, 51, 58, 55, 40, 47, 47, 51, 40, 47, 55, 44, 63, 44, 53, 48, 51, 47, 51, 46, 53, 59, 54, 48, 53, 57, 47, 61, 51, 49, 49, 44, 50, 51, 44, 44, 51, 46, 49, 43, 45, 46, 49, 57, 54, 51, 52, 45, 46, 42, 43, 54, 54, 48, 46, 55, 59, 50, 50, 55, 43, 57, 57, 55, 53, 55, 55, 56, 46, 50, 44, 44, 54, 51, 48, 52, 48, 49, 49, 47, 56, 52, 58, 56, 46, 49, 46, 46, 58, 50, 46, 49, 51, 49, 47, 57, 52, 53, 49, 50, 51, 44, 52, 47, 50, 51, 46, 47, 48, 49, 61, 42, 54, 50, 55, 46, 38, 49, 48, 49, 58, 61, 54, 52, 52, 53, 50, 56, 46, 55, 45, 49, 52, 55, 50, 45, 48, 57, 49, 46, 48, 39, 53, 50, 49, 57, 52, 50, 45, 58, 52, 49, 46, 55, 51, 53, 54, 59, 51, 58, 45, 50, 49, 49, 47, 51, 45, 50, 53, 40, 55, 46, 43, 46, 59, 42, 45, 58, 52, 52, 60, 64, 51, 51, 40, 54, 43, 49, 51, 48, 59, 47, 54, 50, 39, 55, 44, 54, 48, 46, 58, 43, 56, 50, 56, 41, 50, 55, 54, 46, 51, 47, 50, 54, 53, 52, 49, 46, 60, 45, 47, 48, 49, 48, 52, 47, 60, 40, 40, 49, 49, 59, 55, 57, 52, 45, 49, 37, 58, 61, 61, 45, 46, 49, 52, 46, 44, 54, 46, 52, 52, 43, 53, 53, 53, 42, 44, 51, 60, 50, 46, 42, 55, 43, 52, 49, 51, 46, 51, 49, 50, 57, 42, 46, 53, 52, 45, 48, 53, 54, 51, 52, 49, 48, 52, 47, 52, 49, 59, 57, 43, 43, 57, 56, 45, 51, 47, 48, 50, 46, 53, 55, 49, 50, 50, 57, 45, 51, 41, 51, 47, 47, 51, 54, 52, 52, 49, 47, 38, 45, 43, 45, 46, 47, 48, 47, 49, 56, 56, 63, 53, 50, 54, 45, 47, 51, 53, 54, 49, 39, 55, 49, 54, 52, 54, 38, 51, 44, 51, 53, 52, 56, 52, 47, 48, 44, 51, 44, 50, 46, 48, 51, 52, 41]\n"
     ]
    },
    {
     "output_type": "execute_result",
     "data": {
      "text/plain": [
       "<matplotlib.axes._subplots.AxesSubplot at 0x1d4454b41f0>"
      ]
     },
     "metadata": {},
     "execution_count": 1
    },
    {
     "output_type": "display_data",
     "data": {
      "text/plain": "<Figure size 432x288 with 1 Axes>",
      "image/svg+xml": "<?xml version=\"1.0\" encoding=\"utf-8\" standalone=\"no\"?>\r\n<!DOCTYPE svg PUBLIC \"-//W3C//DTD SVG 1.1//EN\"\r\n  \"http://www.w3.org/Graphics/SVG/1.1/DTD/svg11.dtd\">\r\n<!-- Created with matplotlib (https://matplotlib.org/) -->\r\n<svg height=\"248.518125pt\" version=\"1.1\" viewBox=\"0 0 380.62039 248.518125\" width=\"380.62039pt\" xmlns=\"http://www.w3.org/2000/svg\" xmlns:xlink=\"http://www.w3.org/1999/xlink\">\r\n <defs>\r\n  <style type=\"text/css\">\r\n*{stroke-linecap:butt;stroke-linejoin:round;}\r\n  </style>\r\n </defs>\r\n <g id=\"figure_1\">\r\n  <g id=\"patch_1\">\r\n   <path d=\"M 0 248.518125 \r\nL 380.62039 248.518125 \r\nL 380.62039 0 \r\nL 0 0 \r\nz\r\n\" style=\"fill:none;\"/>\r\n  </g>\r\n  <g id=\"axes_1\">\r\n   <g id=\"patch_2\">\r\n    <path d=\"M 36.465625 224.64 \r\nL 371.265625 224.64 \r\nL 371.265625 7.2 \r\nL 36.465625 7.2 \r\nz\r\n\" style=\"fill:#ffffff;\"/>\r\n   </g>\r\n   <g id=\"patch_3\">\r\n    <path clip-path=\"url(#peddf5594ca)\" d=\"M 78.62505 224.64 \r\nL 103.673165 224.64 \r\nL 103.673165 198.489244 \r\nL 78.62505 198.489244 \r\nz\r\n\" style=\"fill:#1f77b4;opacity:0.4;\"/>\r\n   </g>\r\n   <g id=\"patch_4\">\r\n    <path clip-path=\"url(#peddf5594ca)\" d=\"M 103.673165 224.64 \r\nL 128.72128 224.64 \r\nL 128.72128 178.699483 \r\nL 103.673165 178.699483 \r\nz\r\n\" style=\"fill:#1f77b4;opacity:0.4;\"/>\r\n   </g>\r\n   <g id=\"patch_5\">\r\n    <path clip-path=\"url(#peddf5594ca)\" d=\"M 128.72128 224.64 \r\nL 153.769395 224.64 \r\nL 153.769395 122.864086 \r\nL 128.72128 122.864086 \r\nz\r\n\" style=\"fill:#1f77b4;opacity:0.4;\"/>\r\n   </g>\r\n   <g id=\"patch_6\">\r\n    <path clip-path=\"url(#peddf5594ca)\" d=\"M 153.769395 224.64 \r\nL 178.81751 224.64 \r\nL 178.81751 17.554286 \r\nL 153.769395 17.554286 \r\nz\r\n\" style=\"fill:#1f77b4;opacity:0.4;\"/>\r\n   </g>\r\n   <g id=\"patch_7\">\r\n    <path clip-path=\"url(#peddf5594ca)\" d=\"M 178.81751 224.64 \r\nL 203.865625 224.64 \r\nL 203.865625 71.976129 \r\nL 178.81751 71.976129 \r\nz\r\n\" style=\"fill:#1f77b4;opacity:0.4;\"/>\r\n   </g>\r\n   <g id=\"patch_8\">\r\n    <path clip-path=\"url(#peddf5594ca)\" d=\"M 203.865625 224.64 \r\nL 228.91374 224.64 \r\nL 228.91374 120.743754 \r\nL 203.865625 120.743754 \r\nz\r\n\" style=\"fill:#1f77b4;opacity:0.4;\"/>\r\n   </g>\r\n   <g id=\"patch_9\">\r\n    <path clip-path=\"url(#peddf5594ca)\" d=\"M 228.91374 224.64 \r\nL 253.961855 224.64 \r\nL 253.961855 168.097825 \r\nL 228.91374 168.097825 \r\nz\r\n\" style=\"fill:#1f77b4;opacity:0.4;\"/>\r\n   </g>\r\n   <g id=\"patch_10\">\r\n    <path clip-path=\"url(#peddf5594ca)\" d=\"M 253.961855 224.64 \r\nL 279.00997 224.64 \r\nL 279.00997 214.745119 \r\nL 253.961855 214.745119 \r\nz\r\n\" style=\"fill:#1f77b4;opacity:0.4;\"/>\r\n   </g>\r\n   <g id=\"patch_11\">\r\n    <path clip-path=\"url(#peddf5594ca)\" d=\"M 279.00997 224.64 \r\nL 304.058085 224.64 \r\nL 304.058085 222.519668 \r\nL 279.00997 222.519668 \r\nz\r\n\" style=\"fill:#1f77b4;opacity:0.4;\"/>\r\n   </g>\r\n   <g id=\"patch_12\">\r\n    <path clip-path=\"url(#peddf5594ca)\" d=\"M 304.058085 224.64 \r\nL 329.1062 224.64 \r\nL 329.1062 223.933223 \r\nL 304.058085 223.933223 \r\nz\r\n\" style=\"fill:#1f77b4;opacity:0.4;\"/>\r\n   </g>\r\n   <g id=\"matplotlib.axis_1\">\r\n    <g id=\"xtick_1\">\r\n     <g id=\"line2d_1\">\r\n      <defs>\r\n       <path d=\"M 0 0 \r\nL 0 3.5 \r\n\" id=\"m8c6acb5451\" style=\"stroke:#000000;stroke-width:0.8;\"/>\r\n      </defs>\r\n      <g>\r\n       <use style=\"stroke:#000000;stroke-width:0.8;\" x=\"63.444374\" xlink:href=\"#m8c6acb5451\" y=\"224.64\"/>\r\n      </g>\r\n     </g>\r\n     <g id=\"text_1\">\r\n      <!-- 35 -->\r\n      <defs>\r\n       <path d=\"M 40.578125 39.3125 \r\nQ 47.65625 37.796875 51.625 33 \r\nQ 55.609375 28.21875 55.609375 21.1875 \r\nQ 55.609375 10.40625 48.1875 4.484375 \r\nQ 40.765625 -1.421875 27.09375 -1.421875 \r\nQ 22.515625 -1.421875 17.65625 -0.515625 \r\nQ 12.796875 0.390625 7.625 2.203125 \r\nL 7.625 11.71875 \r\nQ 11.71875 9.328125 16.59375 8.109375 \r\nQ 21.484375 6.890625 26.8125 6.890625 \r\nQ 36.078125 6.890625 40.9375 10.546875 \r\nQ 45.796875 14.203125 45.796875 21.1875 \r\nQ 45.796875 27.640625 41.28125 31.265625 \r\nQ 36.765625 34.90625 28.71875 34.90625 \r\nL 20.21875 34.90625 \r\nL 20.21875 43.015625 \r\nL 29.109375 43.015625 \r\nQ 36.375 43.015625 40.234375 45.921875 \r\nQ 44.09375 48.828125 44.09375 54.296875 \r\nQ 44.09375 59.90625 40.109375 62.90625 \r\nQ 36.140625 65.921875 28.71875 65.921875 \r\nQ 24.65625 65.921875 20.015625 65.03125 \r\nQ 15.375 64.15625 9.8125 62.3125 \r\nL 9.8125 71.09375 \r\nQ 15.4375 72.65625 20.34375 73.4375 \r\nQ 25.25 74.21875 29.59375 74.21875 \r\nQ 40.828125 74.21875 47.359375 69.109375 \r\nQ 53.90625 64.015625 53.90625 55.328125 \r\nQ 53.90625 49.265625 50.4375 45.09375 \r\nQ 46.96875 40.921875 40.578125 39.3125 \r\nz\r\n\" id=\"DejaVuSans-51\"/>\r\n       <path d=\"M 10.796875 72.90625 \r\nL 49.515625 72.90625 \r\nL 49.515625 64.59375 \r\nL 19.828125 64.59375 \r\nL 19.828125 46.734375 \r\nQ 21.96875 47.46875 24.109375 47.828125 \r\nQ 26.265625 48.1875 28.421875 48.1875 \r\nQ 40.625 48.1875 47.75 41.5 \r\nQ 54.890625 34.8125 54.890625 23.390625 \r\nQ 54.890625 11.625 47.5625 5.09375 \r\nQ 40.234375 -1.421875 26.90625 -1.421875 \r\nQ 22.3125 -1.421875 17.546875 -0.640625 \r\nQ 12.796875 0.140625 7.71875 1.703125 \r\nL 7.71875 11.625 \r\nQ 12.109375 9.234375 16.796875 8.0625 \r\nQ 21.484375 6.890625 26.703125 6.890625 \r\nQ 35.15625 6.890625 40.078125 11.328125 \r\nQ 45.015625 15.765625 45.015625 23.390625 \r\nQ 45.015625 31 40.078125 35.4375 \r\nQ 35.15625 39.890625 26.703125 39.890625 \r\nQ 22.75 39.890625 18.8125 39.015625 \r\nQ 14.890625 38.140625 10.796875 36.28125 \r\nz\r\n\" id=\"DejaVuSans-53\"/>\r\n      </defs>\r\n      <g transform=\"translate(57.081874 239.238437)scale(0.1 -0.1)\">\r\n       <use xlink:href=\"#DejaVuSans-51\"/>\r\n       <use x=\"63.623047\" xlink:href=\"#DejaVuSans-53\"/>\r\n      </g>\r\n     </g>\r\n    </g>\r\n    <g id=\"xtick_2\">\r\n     <g id=\"line2d_2\">\r\n      <g>\r\n       <use style=\"stroke:#000000;stroke-width:0.8;\" x=\"101.396063\" xlink:href=\"#m8c6acb5451\" y=\"224.64\"/>\r\n      </g>\r\n     </g>\r\n     <g id=\"text_2\">\r\n      <!-- 40 -->\r\n      <defs>\r\n       <path d=\"M 37.796875 64.3125 \r\nL 12.890625 25.390625 \r\nL 37.796875 25.390625 \r\nz\r\nM 35.203125 72.90625 \r\nL 47.609375 72.90625 \r\nL 47.609375 25.390625 \r\nL 58.015625 25.390625 \r\nL 58.015625 17.1875 \r\nL 47.609375 17.1875 \r\nL 47.609375 0 \r\nL 37.796875 0 \r\nL 37.796875 17.1875 \r\nL 4.890625 17.1875 \r\nL 4.890625 26.703125 \r\nz\r\n\" id=\"DejaVuSans-52\"/>\r\n       <path d=\"M 31.78125 66.40625 \r\nQ 24.171875 66.40625 20.328125 58.90625 \r\nQ 16.5 51.421875 16.5 36.375 \r\nQ 16.5 21.390625 20.328125 13.890625 \r\nQ 24.171875 6.390625 31.78125 6.390625 \r\nQ 39.453125 6.390625 43.28125 13.890625 \r\nQ 47.125 21.390625 47.125 36.375 \r\nQ 47.125 51.421875 43.28125 58.90625 \r\nQ 39.453125 66.40625 31.78125 66.40625 \r\nz\r\nM 31.78125 74.21875 \r\nQ 44.046875 74.21875 50.515625 64.515625 \r\nQ 56.984375 54.828125 56.984375 36.375 \r\nQ 56.984375 17.96875 50.515625 8.265625 \r\nQ 44.046875 -1.421875 31.78125 -1.421875 \r\nQ 19.53125 -1.421875 13.0625 8.265625 \r\nQ 6.59375 17.96875 6.59375 36.375 \r\nQ 6.59375 54.828125 13.0625 64.515625 \r\nQ 19.53125 74.21875 31.78125 74.21875 \r\nz\r\n\" id=\"DejaVuSans-48\"/>\r\n      </defs>\r\n      <g transform=\"translate(95.033563 239.238437)scale(0.1 -0.1)\">\r\n       <use xlink:href=\"#DejaVuSans-52\"/>\r\n       <use x=\"63.623047\" xlink:href=\"#DejaVuSans-48\"/>\r\n      </g>\r\n     </g>\r\n    </g>\r\n    <g id=\"xtick_3\">\r\n     <g id=\"line2d_3\">\r\n      <g>\r\n       <use style=\"stroke:#000000;stroke-width:0.8;\" x=\"139.347753\" xlink:href=\"#m8c6acb5451\" y=\"224.64\"/>\r\n      </g>\r\n     </g>\r\n     <g id=\"text_3\">\r\n      <!-- 45 -->\r\n      <g transform=\"translate(132.985253 239.238437)scale(0.1 -0.1)\">\r\n       <use xlink:href=\"#DejaVuSans-52\"/>\r\n       <use x=\"63.623047\" xlink:href=\"#DejaVuSans-53\"/>\r\n      </g>\r\n     </g>\r\n    </g>\r\n    <g id=\"xtick_4\">\r\n     <g id=\"line2d_4\">\r\n      <g>\r\n       <use style=\"stroke:#000000;stroke-width:0.8;\" x=\"177.299442\" xlink:href=\"#m8c6acb5451\" y=\"224.64\"/>\r\n      </g>\r\n     </g>\r\n     <g id=\"text_4\">\r\n      <!-- 50 -->\r\n      <g transform=\"translate(170.936942 239.238437)scale(0.1 -0.1)\">\r\n       <use xlink:href=\"#DejaVuSans-53\"/>\r\n       <use x=\"63.623047\" xlink:href=\"#DejaVuSans-48\"/>\r\n      </g>\r\n     </g>\r\n    </g>\r\n    <g id=\"xtick_5\">\r\n     <g id=\"line2d_5\">\r\n      <g>\r\n       <use style=\"stroke:#000000;stroke-width:0.8;\" x=\"215.251132\" xlink:href=\"#m8c6acb5451\" y=\"224.64\"/>\r\n      </g>\r\n     </g>\r\n     <g id=\"text_5\">\r\n      <!-- 55 -->\r\n      <g transform=\"translate(208.888632 239.238437)scale(0.1 -0.1)\">\r\n       <use xlink:href=\"#DejaVuSans-53\"/>\r\n       <use x=\"63.623047\" xlink:href=\"#DejaVuSans-53\"/>\r\n      </g>\r\n     </g>\r\n    </g>\r\n    <g id=\"xtick_6\">\r\n     <g id=\"line2d_6\">\r\n      <g>\r\n       <use style=\"stroke:#000000;stroke-width:0.8;\" x=\"253.202821\" xlink:href=\"#m8c6acb5451\" y=\"224.64\"/>\r\n      </g>\r\n     </g>\r\n     <g id=\"text_6\">\r\n      <!-- 60 -->\r\n      <defs>\r\n       <path d=\"M 33.015625 40.375 \r\nQ 26.375 40.375 22.484375 35.828125 \r\nQ 18.609375 31.296875 18.609375 23.390625 \r\nQ 18.609375 15.53125 22.484375 10.953125 \r\nQ 26.375 6.390625 33.015625 6.390625 \r\nQ 39.65625 6.390625 43.53125 10.953125 \r\nQ 47.40625 15.53125 47.40625 23.390625 \r\nQ 47.40625 31.296875 43.53125 35.828125 \r\nQ 39.65625 40.375 33.015625 40.375 \r\nz\r\nM 52.59375 71.296875 \r\nL 52.59375 62.3125 \r\nQ 48.875 64.0625 45.09375 64.984375 \r\nQ 41.3125 65.921875 37.59375 65.921875 \r\nQ 27.828125 65.921875 22.671875 59.328125 \r\nQ 17.53125 52.734375 16.796875 39.40625 \r\nQ 19.671875 43.65625 24.015625 45.921875 \r\nQ 28.375 48.1875 33.59375 48.1875 \r\nQ 44.578125 48.1875 50.953125 41.515625 \r\nQ 57.328125 34.859375 57.328125 23.390625 \r\nQ 57.328125 12.15625 50.6875 5.359375 \r\nQ 44.046875 -1.421875 33.015625 -1.421875 \r\nQ 20.359375 -1.421875 13.671875 8.265625 \r\nQ 6.984375 17.96875 6.984375 36.375 \r\nQ 6.984375 53.65625 15.1875 63.9375 \r\nQ 23.390625 74.21875 37.203125 74.21875 \r\nQ 40.921875 74.21875 44.703125 73.484375 \r\nQ 48.484375 72.75 52.59375 71.296875 \r\nz\r\n\" id=\"DejaVuSans-54\"/>\r\n      </defs>\r\n      <g transform=\"translate(246.840321 239.238437)scale(0.1 -0.1)\">\r\n       <use xlink:href=\"#DejaVuSans-54\"/>\r\n       <use x=\"63.623047\" xlink:href=\"#DejaVuSans-48\"/>\r\n      </g>\r\n     </g>\r\n    </g>\r\n    <g id=\"xtick_7\">\r\n     <g id=\"line2d_7\">\r\n      <g>\r\n       <use style=\"stroke:#000000;stroke-width:0.8;\" x=\"291.154511\" xlink:href=\"#m8c6acb5451\" y=\"224.64\"/>\r\n      </g>\r\n     </g>\r\n     <g id=\"text_7\">\r\n      <!-- 65 -->\r\n      <g transform=\"translate(284.792011 239.238437)scale(0.1 -0.1)\">\r\n       <use xlink:href=\"#DejaVuSans-54\"/>\r\n       <use x=\"63.623047\" xlink:href=\"#DejaVuSans-53\"/>\r\n      </g>\r\n     </g>\r\n    </g>\r\n    <g id=\"xtick_8\">\r\n     <g id=\"line2d_8\">\r\n      <g>\r\n       <use style=\"stroke:#000000;stroke-width:0.8;\" x=\"329.1062\" xlink:href=\"#m8c6acb5451\" y=\"224.64\"/>\r\n      </g>\r\n     </g>\r\n     <g id=\"text_8\">\r\n      <!-- 70 -->\r\n      <defs>\r\n       <path d=\"M 8.203125 72.90625 \r\nL 55.078125 72.90625 \r\nL 55.078125 68.703125 \r\nL 28.609375 0 \r\nL 18.3125 0 \r\nL 43.21875 64.59375 \r\nL 8.203125 64.59375 \r\nz\r\n\" id=\"DejaVuSans-55\"/>\r\n      </defs>\r\n      <g transform=\"translate(322.7437 239.238437)scale(0.1 -0.1)\">\r\n       <use xlink:href=\"#DejaVuSans-55\"/>\r\n       <use x=\"63.623047\" xlink:href=\"#DejaVuSans-48\"/>\r\n      </g>\r\n     </g>\r\n    </g>\r\n    <g id=\"xtick_9\">\r\n     <g id=\"line2d_9\">\r\n      <g>\r\n       <use style=\"stroke:#000000;stroke-width:0.8;\" x=\"367.05789\" xlink:href=\"#m8c6acb5451\" y=\"224.64\"/>\r\n      </g>\r\n     </g>\r\n     <g id=\"text_9\">\r\n      <!-- 75 -->\r\n      <g transform=\"translate(360.69539 239.238437)scale(0.1 -0.1)\">\r\n       <use xlink:href=\"#DejaVuSans-55\"/>\r\n       <use x=\"63.623047\" xlink:href=\"#DejaVuSans-53\"/>\r\n      </g>\r\n     </g>\r\n    </g>\r\n   </g>\r\n   <g id=\"matplotlib.axis_2\">\r\n    <g id=\"ytick_1\">\r\n     <g id=\"line2d_10\">\r\n      <defs>\r\n       <path d=\"M 0 0 \r\nL -3.5 0 \r\n\" id=\"m69021fe770\" style=\"stroke:#000000;stroke-width:0.8;\"/>\r\n      </defs>\r\n      <g>\r\n       <use style=\"stroke:#000000;stroke-width:0.8;\" x=\"36.465625\" xlink:href=\"#m69021fe770\" y=\"224.64\"/>\r\n      </g>\r\n     </g>\r\n     <g id=\"text_10\">\r\n      <!-- 0.00 -->\r\n      <defs>\r\n       <path d=\"M 10.6875 12.40625 \r\nL 21 12.40625 \r\nL 21 0 \r\nL 10.6875 0 \r\nz\r\n\" id=\"DejaVuSans-46\"/>\r\n      </defs>\r\n      <g transform=\"translate(7.2 228.439219)scale(0.1 -0.1)\">\r\n       <use xlink:href=\"#DejaVuSans-48\"/>\r\n       <use x=\"63.623047\" xlink:href=\"#DejaVuSans-46\"/>\r\n       <use x=\"95.410156\" xlink:href=\"#DejaVuSans-48\"/>\r\n       <use x=\"159.033203\" xlink:href=\"#DejaVuSans-48\"/>\r\n      </g>\r\n     </g>\r\n    </g>\r\n    <g id=\"ytick_2\">\r\n     <g id=\"line2d_11\">\r\n      <g>\r\n       <use style=\"stroke:#000000;stroke-width:0.8;\" x=\"36.465625\" xlink:href=\"#m69021fe770\" y=\"177.992706\"/>\r\n      </g>\r\n     </g>\r\n     <g id=\"text_11\">\r\n      <!-- 0.02 -->\r\n      <defs>\r\n       <path d=\"M 19.1875 8.296875 \r\nL 53.609375 8.296875 \r\nL 53.609375 0 \r\nL 7.328125 0 \r\nL 7.328125 8.296875 \r\nQ 12.9375 14.109375 22.625 23.890625 \r\nQ 32.328125 33.6875 34.8125 36.53125 \r\nQ 39.546875 41.84375 41.421875 45.53125 \r\nQ 43.3125 49.21875 43.3125 52.78125 \r\nQ 43.3125 58.59375 39.234375 62.25 \r\nQ 35.15625 65.921875 28.609375 65.921875 \r\nQ 23.96875 65.921875 18.8125 64.3125 \r\nQ 13.671875 62.703125 7.8125 59.421875 \r\nL 7.8125 69.390625 \r\nQ 13.765625 71.78125 18.9375 73 \r\nQ 24.125 74.21875 28.421875 74.21875 \r\nQ 39.75 74.21875 46.484375 68.546875 \r\nQ 53.21875 62.890625 53.21875 53.421875 \r\nQ 53.21875 48.921875 51.53125 44.890625 \r\nQ 49.859375 40.875 45.40625 35.40625 \r\nQ 44.1875 33.984375 37.640625 27.21875 \r\nQ 31.109375 20.453125 19.1875 8.296875 \r\nz\r\n\" id=\"DejaVuSans-50\"/>\r\n      </defs>\r\n      <g transform=\"translate(7.2 181.791925)scale(0.1 -0.1)\">\r\n       <use xlink:href=\"#DejaVuSans-48\"/>\r\n       <use x=\"63.623047\" xlink:href=\"#DejaVuSans-46\"/>\r\n       <use x=\"95.410156\" xlink:href=\"#DejaVuSans-48\"/>\r\n       <use x=\"159.033203\" xlink:href=\"#DejaVuSans-50\"/>\r\n      </g>\r\n     </g>\r\n    </g>\r\n    <g id=\"ytick_3\">\r\n     <g id=\"line2d_12\">\r\n      <g>\r\n       <use style=\"stroke:#000000;stroke-width:0.8;\" x=\"36.465625\" xlink:href=\"#m69021fe770\" y=\"131.345412\"/>\r\n      </g>\r\n     </g>\r\n     <g id=\"text_12\">\r\n      <!-- 0.04 -->\r\n      <g transform=\"translate(7.2 135.144631)scale(0.1 -0.1)\">\r\n       <use xlink:href=\"#DejaVuSans-48\"/>\r\n       <use x=\"63.623047\" xlink:href=\"#DejaVuSans-46\"/>\r\n       <use x=\"95.410156\" xlink:href=\"#DejaVuSans-48\"/>\r\n       <use x=\"159.033203\" xlink:href=\"#DejaVuSans-52\"/>\r\n      </g>\r\n     </g>\r\n    </g>\r\n    <g id=\"ytick_4\">\r\n     <g id=\"line2d_13\">\r\n      <g>\r\n       <use style=\"stroke:#000000;stroke-width:0.8;\" x=\"36.465625\" xlink:href=\"#m69021fe770\" y=\"84.698118\"/>\r\n      </g>\r\n     </g>\r\n     <g id=\"text_13\">\r\n      <!-- 0.06 -->\r\n      <g transform=\"translate(7.2 88.497337)scale(0.1 -0.1)\">\r\n       <use xlink:href=\"#DejaVuSans-48\"/>\r\n       <use x=\"63.623047\" xlink:href=\"#DejaVuSans-46\"/>\r\n       <use x=\"95.410156\" xlink:href=\"#DejaVuSans-48\"/>\r\n       <use x=\"159.033203\" xlink:href=\"#DejaVuSans-54\"/>\r\n      </g>\r\n     </g>\r\n    </g>\r\n    <g id=\"ytick_5\">\r\n     <g id=\"line2d_14\">\r\n      <g>\r\n       <use style=\"stroke:#000000;stroke-width:0.8;\" x=\"36.465625\" xlink:href=\"#m69021fe770\" y=\"38.050824\"/>\r\n      </g>\r\n     </g>\r\n     <g id=\"text_14\">\r\n      <!-- 0.08 -->\r\n      <defs>\r\n       <path d=\"M 31.78125 34.625 \r\nQ 24.75 34.625 20.71875 30.859375 \r\nQ 16.703125 27.09375 16.703125 20.515625 \r\nQ 16.703125 13.921875 20.71875 10.15625 \r\nQ 24.75 6.390625 31.78125 6.390625 \r\nQ 38.8125 6.390625 42.859375 10.171875 \r\nQ 46.921875 13.96875 46.921875 20.515625 \r\nQ 46.921875 27.09375 42.890625 30.859375 \r\nQ 38.875 34.625 31.78125 34.625 \r\nz\r\nM 21.921875 38.8125 \r\nQ 15.578125 40.375 12.03125 44.71875 \r\nQ 8.5 49.078125 8.5 55.328125 \r\nQ 8.5 64.0625 14.71875 69.140625 \r\nQ 20.953125 74.21875 31.78125 74.21875 \r\nQ 42.671875 74.21875 48.875 69.140625 \r\nQ 55.078125 64.0625 55.078125 55.328125 \r\nQ 55.078125 49.078125 51.53125 44.71875 \r\nQ 48 40.375 41.703125 38.8125 \r\nQ 48.828125 37.15625 52.796875 32.3125 \r\nQ 56.78125 27.484375 56.78125 20.515625 \r\nQ 56.78125 9.90625 50.3125 4.234375 \r\nQ 43.84375 -1.421875 31.78125 -1.421875 \r\nQ 19.734375 -1.421875 13.25 4.234375 \r\nQ 6.78125 9.90625 6.78125 20.515625 \r\nQ 6.78125 27.484375 10.78125 32.3125 \r\nQ 14.796875 37.15625 21.921875 38.8125 \r\nz\r\nM 18.3125 54.390625 \r\nQ 18.3125 48.734375 21.84375 45.5625 \r\nQ 25.390625 42.390625 31.78125 42.390625 \r\nQ 38.140625 42.390625 41.71875 45.5625 \r\nQ 45.3125 48.734375 45.3125 54.390625 \r\nQ 45.3125 60.0625 41.71875 63.234375 \r\nQ 38.140625 66.40625 31.78125 66.40625 \r\nQ 25.390625 66.40625 21.84375 63.234375 \r\nQ 18.3125 60.0625 18.3125 54.390625 \r\nz\r\n\" id=\"DejaVuSans-56\"/>\r\n      </defs>\r\n      <g transform=\"translate(7.2 41.850043)scale(0.1 -0.1)\">\r\n       <use xlink:href=\"#DejaVuSans-48\"/>\r\n       <use x=\"63.623047\" xlink:href=\"#DejaVuSans-46\"/>\r\n       <use x=\"95.410156\" xlink:href=\"#DejaVuSans-48\"/>\r\n       <use x=\"159.033203\" xlink:href=\"#DejaVuSans-56\"/>\r\n      </g>\r\n     </g>\r\n    </g>\r\n   </g>\r\n   <g id=\"line2d_15\">\r\n    <path clip-path=\"url(#peddf5594ca)\" d=\"M 51.683807 224.600717 \r\nL 56.476935 224.474017 \r\nL 58.873499 224.312256 \r\nL 61.270063 224.027907 \r\nL 63.666627 223.559732 \r\nL 66.063191 222.836875 \r\nL 68.459755 221.79048 \r\nL 70.856319 220.371499 \r\nL 73.252883 218.571126 \r\nL 75.649447 216.436823 \r\nL 85.235704 207.131163 \r\nL 87.632268 205.250404 \r\nL 90.028832 203.620766 \r\nL 99.615088 197.712893 \r\nL 102.011652 195.829587 \r\nL 104.408216 193.547603 \r\nL 106.80478 190.733794 \r\nL 109.201344 187.271715 \r\nL 111.597908 183.099836 \r\nL 113.994473 178.242633 \r\nL 116.391037 172.815251 \r\nL 121.184165 160.96609 \r\nL 130.770421 136.292348 \r\nL 135.563549 122.990558 \r\nL 145.149805 94.917349 \r\nL 147.546369 88.451714 \r\nL 149.942934 82.475785 \r\nL 152.339498 77.021603 \r\nL 154.736062 72.052993 \r\nL 157.132626 67.488934 \r\nL 159.52919 63.241876 \r\nL 161.925754 59.257876 \r\nL 164.322318 55.541939 \r\nL 166.718882 52.157257 \r\nL 169.115446 49.200436 \r\nL 171.51201 46.768462 \r\nL 173.908574 44.937734 \r\nL 176.305138 43.766493 \r\nL 178.701702 43.314996 \r\nL 181.098266 43.66421 \r\nL 183.49483 44.913176 \r\nL 185.891395 47.148138 \r\nL 188.287959 50.394773 \r\nL 190.684523 54.577318 \r\nL 193.081087 59.508049 \r\nL 197.874215 70.521155 \r\nL 202.667343 81.51118 \r\nL 209.857035 97.5305 \r\nL 212.253599 103.254655 \r\nL 217.046727 115.646674 \r\nL 224.23642 135.033396 \r\nL 229.029548 147.255251 \r\nL 233.822676 158.854515 \r\nL 241.012368 175.570472 \r\nL 245.805496 186.006043 \r\nL 248.20206 190.794356 \r\nL 250.598624 195.1677 \r\nL 252.995188 199.048717 \r\nL 255.391752 202.404184 \r\nL 257.788316 205.257482 \r\nL 260.184881 207.681866 \r\nL 262.581445 209.776556 \r\nL 264.978009 211.636343 \r\nL 267.374573 213.327657 \r\nL 269.771137 214.879307 \r\nL 272.167701 216.288268 \r\nL 274.564265 217.534793 \r\nL 276.960829 218.599392 \r\nL 279.357393 219.47591 \r\nL 281.753957 220.177934 \r\nL 286.547085 221.201354 \r\nL 300.92647 223.597746 \r\nL 305.719598 224.139923 \r\nL 310.512726 224.378224 \r\nL 315.305854 224.350669 \r\nL 329.685238 223.861491 \r\nL 334.478367 223.98563 \r\nL 348.857751 224.567034 \r\nL 356.047443 224.615894 \r\nL 356.047443 224.615894 \r\n\" style=\"fill:none;stroke:#1f77b4;stroke-linecap:square;stroke-width:1.5;\"/>\r\n   </g>\r\n   <g id=\"patch_13\">\r\n    <path d=\"M 36.465625 224.64 \r\nL 36.465625 7.2 \r\n\" style=\"fill:none;stroke:#000000;stroke-linecap:square;stroke-linejoin:miter;stroke-width:0.8;\"/>\r\n   </g>\r\n   <g id=\"patch_14\">\r\n    <path d=\"M 371.265625 224.64 \r\nL 371.265625 7.2 \r\n\" style=\"fill:none;stroke:#000000;stroke-linecap:square;stroke-linejoin:miter;stroke-width:0.8;\"/>\r\n   </g>\r\n   <g id=\"patch_15\">\r\n    <path d=\"M 36.465625 224.64 \r\nL 371.265625 224.64 \r\n\" style=\"fill:none;stroke:#000000;stroke-linecap:square;stroke-linejoin:miter;stroke-width:0.8;\"/>\r\n   </g>\r\n   <g id=\"patch_16\">\r\n    <path d=\"M 36.465625 7.2 \r\nL 371.265625 7.2 \r\n\" style=\"fill:none;stroke:#000000;stroke-linecap:square;stroke-linejoin:miter;stroke-width:0.8;\"/>\r\n   </g>\r\n  </g>\r\n </g>\r\n <defs>\r\n  <clipPath id=\"peddf5594ca\">\r\n   <rect height=\"217.44\" width=\"334.8\" x=\"36.465625\" y=\"7.2\"/>\r\n  </clipPath>\r\n </defs>\r\n</svg>\r\n",
      "image/png": "[encoded data removed]"
     },
     "metadata": {
      "needs_background": "light"
     }
    }
   ],
   "source": [
    "import numpy as np\n",
    "import seaborn as sns\n",
    "\n",
    "rng = np.random.default_rng()\n",
    "\n",
    "# simulate 100 coinflips 1000 times\n",
    "\n",
    "headsList = []\n",
    "roundList = []\n",
    "roundsCount = 0\n",
    "\n",
    "while roundsCount < 1000:\n",
    "    headsList = rng.binomial(100, 0.5)\n",
    "    roundsCount = roundsCount + 1\n",
    "    roundList.append(headsList)\n",
    "\n",
    "print(roundList)\n",
    "\n",
    "sns.distplot(roundList, bins=10)"
   ]
  },
  {
   "cell_type": "code",
   "execution_count": null,
   "metadata": {},
   "outputs": [],
   "source": []
  },
  {
   "cell_type": "code",
   "execution_count": null,
   "metadata": {},
   "outputs": [],
   "source": []
  },
  {
   "source": [
    "# List of sources.\n",
    "\n",
    "***\n",
    "\n",
    "<b> 1) DOCUMENTS AND REPORTS.</b>\n",
    "\n",
    "Datasets: \n",
    "<http://www.cs.toronto.edu/~delve/data/>\n",
    "\n",
    "UCI Machine Learning Repository:\n",
    "<http://archive.ics.uci.edu/ml/datasets/Iris>\n",
    "\n",
    "NumPy Documentation:\n",
    "<https://numpy.org/doc/stable/reference/random/>\n",
    "\n",
    "NumPy v1.19 Manual:\n",
    "<https://numpy.org/doc/stable/index.html>\n",
    "\n",
    "NumPy in general:\n",
    "<https://numpy.org/>\n",
    "\n",
    "pandas documentation:\n",
    "<https://pandas.pydata.org/docs/index.html>\n",
    "\n",
    "Matplotlib: Python plotting documentation:\n",
    "<https://matplotlib.org/>\n",
    "\n",
    "The Python Standard Library\n",
    "<https://docs.python.org/3/library/index.html>\n",
    "\n",
    "\n",
    "\n",
    "\n",
    "\n",
    "\n",
    "\n",
    "<b> 2) ARTICLES, MONOGRAPHS, STUDIES.</b>\n",
    "\n",
    "Encyclopaedia Britannica: \n",
    "<http://www.britannica.com/>\n",
    "\n",
    "Galli, S., Python Feature Engineering Cookbook,  Birmingham 2020. \n",
    "\n",
    "Schweppes J., How to Think Write and Cite – key skills for Irish Law, Dublin 2011.\n",
    "\n",
    "Waugh S., Extending and benchmarking Cascade-Correlation, Tasmania 1995.\n",
    "\n",
    "VanderPlas. J., A Whirlwind Tour of Python, Dublin 2016.\n",
    "\n",
    "VanderPlas. J., Python Data Science Handbook: Essential Tools for Working with Data, Dublin 2016.\n",
    "\n",
    "Internet Resources: \n",
    "\n",
    "<https://www.w3schools.com/python/numpy_random.asp>\n",
    "\n",
    "<https://www.geeksforgeeks.org/numpy-random-rand-python/>\n",
    "\n",
    "<https://docs.scipy.org/doc/numpy-1.15.0/reference/routines.random.html>\n",
    "\n",
    "<https://www.markdownguide.org/getting-started/>\n",
    "\n",
    "<https://medium.com/@ingeh/markdown-for-jupyter-notebooks-cheatsheet-386c05aeebed>\n",
    "\n",
    "<https://github.com/>\n",
    "\n",
    "<https://en.wikipedia.org/wiki/Triangular_distribution>\n",
    "\n",
    "<https://gitter.im/GMIT-Python-Learners-2019/community>\n",
    "\n",
    "<https://docs.python.org/3/tutorial/>\n",
    "\n",
    "<https://leanpub.com/pyprog/read>\n",
    "\n",
    "<https://www.codecademy.com/courses/data-visualization-python/lessons/matplotlib-i/exercises/introduction-matplotlib-i>\n",
    "\n",
    "<http://www.cs.nott.ac.uk/~pszgmh/counting.pdf>\n",
    "\n",
    "<https://simplemaps.com/data/us-cities>\n",
    "\n",
    "<https://jupyter-notebook.readthedocs.io/en/stable/examples/Notebook/Working%20With%20Markdown%20Cells.html>\n",
    "\n",
    "<https://medium.com/@ingeh/markdown-for-jupyter-notebooks-cheatsheet-386c05aeebed#:~:text=Bullets%3A%20Use%20the%20dash%20sign,Numbered%20lists%3A%20Start%20with%201.>\n",
    "\n",
    "<https://www.codecademy.com/paths/>\n",
    "\n",
    "<https://www.codecademy.com/articles/how-to-use-jupyter-notebooks-py3>\n",
    "\n",
    "<https://simplemaps.com/data/canada-cities>\n"
   ],
   "cell_type": "markdown",
   "metadata": {}
  }
 ],
 "metadata": {
  "kernelspec": {
   "display_name": "Python 3",
   "language": "python",
   "name": "python3"
  },
  "language_info": {
   "codemirror_mode": {
    "name": "ipython",
    "version": 3
   },
   "file_extension": ".py",
   "mimetype": "text/x-python",
   "name": "python",
   "nbconvert_exporter": "python",
   "pygments_lexer": "ipython3",
   "version": "3.8.3-final"
  }
 },
 "nbformat": 4,
 "nbformat_minor": 4
}