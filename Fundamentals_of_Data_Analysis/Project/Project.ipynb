{
 "cells": [
  {
   "cell_type": "markdown",
   "metadata": {},
   "source": [
    "<h1>Tasks 2020 for the Fundamentals of Data Analysis.<h1>\n",
    "\n",
    "\n",
    "\n",
    "\n",
    "\n",
    "\n"
   ]
  },
  {
   "cell_type": "markdown",
   "metadata": {},
   "source": [
    "##  1. Task number 1.\n",
    "\n",
    "\n",
    "October 5th, 2020: Write a Python function called counts that takes a list as\n",
    "input and returns a dictionary of unique items in the list as keys and the number of\n",
    "times each item appears as values. So, the input ['A', 'A', 'B', 'C', 'A']\n",
    "should have output {'A': 3, 'B': 1, 'C': 1} . Your code should not depend\n",
    "on any module from the standard library1 or otherwise. You should research\n",
    "the task first and include a description with references of your algorithm in the\n",
    "notebook."
   ]
  },
  {
   "cell_type": "code",
   "execution_count": 11,
   "metadata": {},
   "outputs": [
    {
     "output_type": "stream",
     "name": "stdout",
     "text": [
      "{'A': 3, 'B': 1, 'C': 1}\n"
     ]
    }
   ],
   "source": [
    "#I am defining the list first \n",
    "my_list = ['A', 'A', 'B', 'C', 'A']\n",
    "\n",
    "#now I am writing proper fucntion\n",
    "def counts(my_list):\n",
    "\n",
    "# I am creating an empty dictionary for further data \n",
    "    counter = {} \n",
    "\n",
    "    #countings i in my listof times each item appears as values\n",
    "    for i in my_list:\n",
    "        counter[i] = counter.get(i, 0) + 1\n",
    "       \n",
    "       \n",
    "#returns the elementCount dicitonary to the terminal\n",
    "    return counter\n",
    "\n",
    "\n",
    "print (counts(my_list))"
   ]
  },
  {
   "source": [
    "##  2. Task number 2.\n",
    "November 2nd, 2020: Write a Python function called dicerolls that simulates\n",
    "rolling dice. Your function should take two parameters: the number of dice k and\n",
    "the number of times to roll the dice n. The function should simulate randomly\n",
    "rolling k dice n times, keeping track of each total face value. It should then return\n",
    "a dictionary with the number of times each possible total face value occurred. So,\n",
    "calling the function as diceroll(k=2, n=1000) should return a dictionary like:\n",
    "{2:19,3:50,4:82,5:112,6:135,7:174,8:133,9:114,10:75,11:70,12:36}\n",
    "You can use any module from the Python standard library you wish and you should\n",
    "include a description with references of your algorithm in the notebook."
   ],
   "cell_type": "markdown",
   "metadata": {}
  },
  {
   "cell_type": "code",
   "execution_count": 30,
   "metadata": {},
   "outputs": [
    {
     "output_type": "stream",
     "name": "stdout",
     "text": [
      "{2: 36, 3: 47, 4: 98, 5: 109, 6: 129, 7: 162, 8: 141, 9: 116, 10: 76, 11: 58, 12: 28}\n"
     ]
    }
   ],
   "source": [
    "#defining a the function with 2 parameters: k and n - the number of dice k and\n",
    "#the number of times to roll the dice n.\n",
    "#importing random as I need randint library\n",
    "\n",
    "import random\n",
    "def diceroll(k, n, dice_sides=6):\n",
    "    # defining a dictionary with the number of times each possible total face value occurred\n",
    "    counter = {n : 0 for n in range(k, k*dice_sides + 1)} #as dice has 6 sides\n",
    "\n",
    "    # running the programm\n",
    "    for i in range(n):\n",
    "        dice_sum = sum(random.choices(range(1, dice_sides + 1), k = k))\n",
    "        counter[dice_sum] += 1\n",
    "    return counter\n",
    "\n",
    "print (diceroll(2, 1000))\n",
    "\n",
    "\n",
    "\n"
   ]
  },
  {
   "cell_type": "code",
   "execution_count": null,
   "metadata": {},
   "outputs": [],
   "source": []
  },
  {
   "cell_type": "code",
   "execution_count": null,
   "metadata": {},
   "outputs": [],
   "source": []
  }
 ],
 "metadata": {
  "kernelspec": {
   "display_name": "Python 3",
   "language": "python",
   "name": "python3"
  },
  "language_info": {
   "codemirror_mode": {
    "name": "ipython",
    "version": 3
   },
   "file_extension": ".py",
   "mimetype": "text/x-python",
   "name": "python",
   "nbconvert_exporter": "python",
   "pygments_lexer": "ipython3",
   "version": "3.8.3-final"
  }
 },
 "nbformat": 4,
 "nbformat_minor": 4
}