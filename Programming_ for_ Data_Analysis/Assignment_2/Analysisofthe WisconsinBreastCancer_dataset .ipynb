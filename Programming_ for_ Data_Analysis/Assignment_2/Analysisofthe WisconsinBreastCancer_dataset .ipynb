{
 "cells": [
  {
   "cell_type": "markdown",
   "metadata": {},
   "source": [
    "<h1>The analysis of the Wisconsin Breast Cancer dataset.<h1>\n",
    "\n",
    "\n",
    "\n",
    "\n",
    "\n",
    "\n"
   ]
  },
  {
   "source": [
    "##   Introductory remarks.\n",
    "\n",
    "\n",
    "A data set shall be interpreted as a collection of statistical data which is usually included in a tabulated form. In my case it is a CSV file (comma-separated values file, available online). To start proper analysis, it is crucial to understand what Data Science is. The Data Science can be interpreted as a field of analyzing data into important information that helps to take appropriate steps. \n",
    "\n",
    "\n",
    "The purpose of this project is to present an analysis of the Wisconsin Breast Cancer dataset (csv file available in repository) and document the work in a Jupyter notebook. It`s important to mention that Data scientist can be interpreted as a process of experimentation and exploration to find answers. Therefore, data science pursues the various scientific method. The data science process includes standard steps which are relevant to working with large, digital datasets. In order to analyze the dataset I am going to use regular process which have been adopted in my previous analysis: \n",
    "\n",
    "- Ask question and to determine the necessary data(including hypothesis);\n",
    "- Collect the data;\n",
    "- Clean and organize the data;\n",
    "- Explore the data;\n",
    "- Build model to do analysis;\n",
    "- Show findings.\n",
    "\n",
    "\n",
    "## Ask question and to determine the necessary data(including hypothesis)\n",
    "\n",
    "In this state of affairs, it has been used the Wisconsin Breast Cancer dataset. This is passive data collection, as they already exist and have been developed by Dr. William Wolberg, from the University Of Wisconsin Hospital at Madison, Wisconsin, United States of America. \n",
    "The dataset was last time edited in November 2019. It is important to determine what sample size is needed to proof a possible hypothesis. I do take into account attribute such as: Diagnosis (M = malignant and B = benign) and the worst radius. \n",
    "A hypothesis in this analysis determine my scientific goal which is to present which data are crucial to predict malignant or benign cancer. I want top present correlation bertween the worst radius (mean of distances from center to points on the perimeter) and the diagnosis. \n",
    "In this analysis I want to understand the impact that diffrent attributes influence on each other. Therefore I have to analyses only the necessary data which can approve my hypothesis. \n",
    "\n",
    "\n",
    "\n",
    "\n",
    "## Get the data.\n",
    "This project includes passive data, as they have been already deployed. I got the data from the UCI Machine Learning Repository contains the Breast Cancer Wisconsin (Diagnostic) Data Set. This part of the process is a great moment to examine correlation between diffrent variables. My data set is in CSV -(Comma-separated values) simple file format used to store tabular data, such as a spreadsheet or database. The data has been saved in the local machine, however they can be also reached online from the Machine Learning and Intelligent Systems repository. \n",
    "\n",
    "## Clean and organize the data.\n",
    "In this part of the process I need to orgazie logical set of data, which is easy to understand and inerpret. In other words the \"data wrangling\" has to be done. For this operation the Panda library will be sufficient \n",
    "\n"
   ],
   "cell_type": "markdown",
   "metadata": {}
  },
  {
   "cell_type": "code",
   "execution_count": 104,
   "metadata": {},
   "outputs": [
    {
     "output_type": "stream",
     "name": "stdout",
     "text": [
      "         id diagnosis  radius_mean  texture_mean  perimeter_mean  area_mean  \\\n0    842302         M        17.99         10.38          122.80     1001.0   \n1    842517         M        20.57         17.77          132.90     1326.0   \n2  84300903         M        19.69         21.25          130.00     1203.0   \n3  84348301         M        11.42         20.38           77.58      386.1   \n4  84358402         M        20.29         14.34          135.10     1297.0   \n5    843786         M        12.45         15.70           82.57      477.1   \n6    844359         M        18.25         19.98          119.60     1040.0   \n7  84458202         M        13.71         20.83           90.20      577.9   \n8    844981         M        13.00         21.82           87.50      519.8   \n9  84501001         M        12.46         24.04           83.97      475.9   \n\n   smoothness_mean  compactness_mean  concavity_mean  concave points_mean  \\\n0          0.11840           0.27760         0.30010              0.14710   \n1          0.08474           0.07864         0.08690              0.07017   \n2          0.10960           0.15990         0.19740              0.12790   \n3          0.14250           0.28390         0.24140              0.10520   \n4          0.10030           0.13280         0.19800              0.10430   \n5          0.12780           0.17000         0.15780              0.08089   \n6          0.09463           0.10900         0.11270              0.07400   \n7          0.11890           0.16450         0.09366              0.05985   \n8          0.12730           0.19320         0.18590              0.09353   \n9          0.11860           0.23960         0.22730              0.08543   \n\n   ...  radius_worst  texture_worst  perimeter_worst  area_worst  \\\n0  ...         25.38          17.33           184.60      2019.0   \n1  ...         24.99          23.41           158.80      1956.0   \n2  ...         23.57          25.53           152.50      1709.0   \n3  ...         14.91          26.50            98.87       567.7   \n4  ...         22.54          16.67           152.20      1575.0   \n5  ...         15.47          23.75           103.40       741.6   \n6  ...         22.88          27.66           153.20      1606.0   \n7  ...         17.06          28.14           110.60       897.0   \n8  ...         15.49          30.73           106.20       739.3   \n9  ...         15.09          40.68            97.65       711.4   \n\n   smoothness_worst  compactness_worst  concavity_worst  concave points_worst  \\\n0            0.1622             0.6656           0.7119                0.2654   \n1            0.1238             0.1866           0.2416                0.1860   \n2            0.1444             0.4245           0.4504                0.2430   \n3            0.2098             0.8663           0.6869                0.2575   \n4            0.1374             0.2050           0.4000                0.1625   \n5            0.1791             0.5249           0.5355                0.1741   \n6            0.1442             0.2576           0.3784                0.1932   \n7            0.1654             0.3682           0.2678                0.1556   \n8            0.1703             0.5401           0.5390                0.2060   \n9            0.1853             1.0580           1.1050                0.2210   \n\n   symmetry_worst  fractal_dimension_worst  \n0          0.4601                  0.11890  \n1          0.2750                  0.08902  \n2          0.3613                  0.08758  \n3          0.6638                  0.17300  \n4          0.2364                  0.07678  \n5          0.3985                  0.12440  \n6          0.3063                  0.08368  \n7          0.3196                  0.11510  \n8          0.4378                  0.10720  \n9          0.4366                  0.20750  \n\n[10 rows x 32 columns]\n<bound method NDFrame.head of            id diagnosis  radius_mean  texture_mean  perimeter_mean  area_mean  \\\n0      842302         M        17.99         10.38          122.80     1001.0   \n1      842517         M        20.57         17.77          132.90     1326.0   \n2    84300903         M        19.69         21.25          130.00     1203.0   \n3    84348301         M        11.42         20.38           77.58      386.1   \n4    84358402         M        20.29         14.34          135.10     1297.0   \n..        ...       ...          ...           ...             ...        ...   \n564    926424         M        21.56         22.39          142.00     1479.0   \n565    926682         M        20.13         28.25          131.20     1261.0   \n566    926954         M        16.60         28.08          108.30      858.1   \n567    927241         M        20.60         29.33          140.10     1265.0   \n568     92751         B         7.76         24.54           47.92      181.0   \n\n     smoothness_mean  compactness_mean  concavity_mean  concave points_mean  \\\n0            0.11840           0.27760         0.30010              0.14710   \n1            0.08474           0.07864         0.08690              0.07017   \n2            0.10960           0.15990         0.19740              0.12790   \n3            0.14250           0.28390         0.24140              0.10520   \n4            0.10030           0.13280         0.19800              0.10430   \n..               ...               ...             ...                  ...   \n564          0.11100           0.11590         0.24390              0.13890   \n565          0.09780           0.10340         0.14400              0.09791   \n566          0.08455           0.10230         0.09251              0.05302   \n567          0.11780           0.27700         0.35140              0.15200   \n568          0.05263           0.04362         0.00000              0.00000   \n\n     ...  radius_worst  texture_worst  perimeter_worst  area_worst  \\\n0    ...        25.380          17.33           184.60      2019.0   \n1    ...        24.990          23.41           158.80      1956.0   \n2    ...        23.570          25.53           152.50      1709.0   \n3    ...        14.910          26.50            98.87       567.7   \n4    ...        22.540          16.67           152.20      1575.0   \n..   ...           ...            ...              ...         ...   \n564  ...        25.450          26.40           166.10      2027.0   \n565  ...        23.690          38.25           155.00      1731.0   \n566  ...        18.980          34.12           126.70      1124.0   \n567  ...        25.740          39.42           184.60      1821.0   \n568  ...         9.456          30.37            59.16       268.6   \n\n     smoothness_worst  compactness_worst  concavity_worst  \\\n0             0.16220            0.66560           0.7119   \n1             0.12380            0.18660           0.2416   \n2             0.14440            0.42450           0.4504   \n3             0.20980            0.86630           0.6869   \n4             0.13740            0.20500           0.4000   \n..                ...                ...              ...   \n564           0.14100            0.21130           0.4107   \n565           0.11660            0.19220           0.3215   \n566           0.11390            0.30940           0.3403   \n567           0.16500            0.86810           0.9387   \n568           0.08996            0.06444           0.0000   \n\n     concave points_worst  symmetry_worst  fractal_dimension_worst  \n0                  0.2654          0.4601                  0.11890  \n1                  0.1860          0.2750                  0.08902  \n2                  0.2430          0.3613                  0.08758  \n3                  0.2575          0.6638                  0.17300  \n4                  0.1625          0.2364                  0.07678  \n..                    ...             ...                      ...  \n564                0.2216          0.2060                  0.07115  \n565                0.1628          0.2572                  0.06637  \n566                0.1418          0.2218                  0.07820  \n567                0.2650          0.4087                  0.12400  \n568                0.0000          0.2871                  0.07039  \n\n[569 rows x 32 columns]>\n"
     ]
    }
   ],
   "source": [
    "# I am importing relevant libraries for this project\n",
    "import numpy as np\n",
    "import pandas as pd\n",
    "import matplotlib.pyplot as plt\n",
    "import seaborn as sns\n",
    "\n",
    "\n",
    "# Import the CSV file (Breast Cancer Wisconsin (Diagnostic) Data Set) and create the DataFrames:\n",
    "data = pd.read_csv(\"data.csv\")\n",
    "\n",
    "\n",
    "# Panda library helps me to transform dataset to a table - just a part of the data (showing 10records and then full dataset):\n",
    "#Because of the head method I can analyse the data\n",
    "\n",
    "print(data.head(10))\n",
    "print(data.head)\n",
    "\n"
   ]
  },
  {
   "source": [
    "## Explore the data.\n",
    "The data are organized and defined. Exploring data process lets user to use two categories:  Statistical calculations and Data visualizations.\n",
    "Statistical description is the Python`s NumPy module:\n",
    "\n",
    "\n",
    "\n"
   ],
   "cell_type": "markdown",
   "metadata": {}
  },
  {
   "source": [
    "#this function returns the average of the array elements\n",
    "np.mean(data)\n",
    "# I can the values are used for integer inputs"
   ],
   "cell_type": "code",
   "metadata": {},
   "execution_count": 98,
   "outputs": [
    {
     "output_type": "execute_result",
     "data": {
      "text/plain": [
       "id                         3.037183e+07\n",
       "radius_mean                1.412729e+01\n",
       "texture_mean               1.928965e+01\n",
       "perimeter_mean             9.196903e+01\n",
       "area_mean                  6.548891e+02\n",
       "smoothness_mean            9.636028e-02\n",
       "compactness_mean           1.043410e-01\n",
       "concavity_mean             8.879932e-02\n",
       "concave points_mean        4.891915e-02\n",
       "symmetry_mean              1.811619e-01\n",
       "fractal_dimension_mean     6.279761e-02\n",
       "radius_se                  4.051721e-01\n",
       "texture_se                 1.216853e+00\n",
       "perimeter_se               2.866059e+00\n",
       "area_se                    4.033708e+01\n",
       "smoothness_se              7.040979e-03\n",
       "compactness_se             2.547814e-02\n",
       "concavity_se               3.189372e-02\n",
       "concave points_se          1.179614e-02\n",
       "symmetry_se                2.054230e-02\n",
       "fractal_dimension_se       3.794904e-03\n",
       "radius_worst               1.626919e+01\n",
       "texture_worst              2.567722e+01\n",
       "perimeter_worst            1.072612e+02\n",
       "area_worst                 8.805831e+02\n",
       "smoothness_worst           1.323686e-01\n",
       "compactness_worst          2.542650e-01\n",
       "concavity_worst            2.721885e-01\n",
       "concave points_worst       1.146062e-01\n",
       "symmetry_worst             2.900756e-01\n",
       "fractal_dimension_worst    8.394582e-02\n",
       "dtype: float64"
      ]
     },
     "metadata": {},
     "execution_count": 98
    }
   ]
  },
  {
   "cell_type": "code",
   "execution_count": 99,
   "metadata": {},
   "outputs": [
    {
     "output_type": "stream",
     "name": "stdout",
     "text": [
      "My data set dimensions are: (569, 32)\n"
     ]
    }
   ],
   "source": [
    "#panda`s shape attribute stores the number of rows and columns as a tuple. This is another of statistical description: \n",
    "print(\"My data set dimensions are: {}\".format(data.shape))\n",
    "#the below code show that my data set has 69 rows and 32 columns."
   ]
  },
  {
   "cell_type": "code",
   "execution_count": 100,
   "metadata": {},
   "outputs": [
    {
     "output_type": "execute_result",
     "data": {
      "text/plain": [
       "count     569\n",
       "unique      2\n",
       "top         B\n",
       "freq      357\n",
       "Name: diagnosis, dtype: object"
      ]
     },
     "metadata": {},
     "execution_count": 100
    }
   ],
   "source": [
    "#here I am describing a specific column \"diagnosis\"\n",
    "data['diagnosis'].describe()\n",
    "#from the above code I know that I have 596 people, and 357 have \"B\" value = benign"
   ]
  },
  {
   "source": [
    "The Data visualization is a second approach. In this case I shall be able to deploye correlations between variables. "
   ],
   "cell_type": "markdown",
   "metadata": {}
  },
  {
   "cell_type": "code",
   "execution_count": 101,
   "metadata": {},
   "outputs": [
    {
     "output_type": "display_data",
     "data": {
      "text/plain": "<Figure size 432x288 with 1 Axes>",
      "image/svg+xml": "<?xml version=\"1.0\" encoding=\"utf-8\" standalone=\"no\"?>\r\n<!DOCTYPE svg PUBLIC \"-//W3C//DTD SVG 1.1//EN\"\r\n  \"http://www.w3.org/Graphics/SVG/1.1/DTD/svg11.dtd\">\r\n<!-- Created with matplotlib (https://matplotlib.org/) -->\r\n<svg height=\"262.474375pt\" version=\"1.1\" viewBox=\"0 0 378.465625 262.474375\" width=\"378.465625pt\" xmlns=\"http://www.w3.org/2000/svg\" xmlns:xlink=\"http://www.w3.org/1999/xlink\">\r\n <defs>\r\n  <style type=\"text/css\">\r\n*{stroke-linecap:butt;stroke-linejoin:round;}\r\n  </style>\r\n </defs>\r\n <g id=\"figure_1\">\r\n  <g id=\"patch_1\">\r\n   <path d=\"M 0 262.474375 \r\nL 378.465625 262.474375 \r\nL 378.465625 0 \r\nL 0 0 \r\nz\r\n\" style=\"fill:none;\"/>\r\n  </g>\r\n  <g id=\"axes_1\">\r\n   <g id=\"patch_2\">\r\n    <path d=\"M 36.465625 224.64 \r\nL 371.265625 224.64 \r\nL 371.265625 7.2 \r\nL 36.465625 7.2 \r\nz\r\n\" style=\"fill:#ffffff;\"/>\r\n   </g>\r\n   <g id=\"patch_3\">\r\n    <path clip-path=\"url(#pbf62e2d58c)\" d=\"M 84.255937 224.64 \r\nL 95.647336 224.64 \r\nL 95.647336 209.997576 \r\nL 84.255937 209.997576 \r\nz\r\n\" style=\"fill:#1f77b4;opacity:0.4;\"/>\r\n   </g>\r\n   <g id=\"patch_4\">\r\n    <path clip-path=\"url(#pbf62e2d58c)\" d=\"M 95.647336 224.64 \r\nL 107.038735 224.64 \r\nL 107.038735 174.437403 \r\nL 95.647336 174.437403 \r\nz\r\n\" style=\"fill:#1f77b4;opacity:0.4;\"/>\r\n   </g>\r\n   <g id=\"patch_5\">\r\n    <path clip-path=\"url(#pbf62e2d58c)\" d=\"M 107.038735 224.64 \r\nL 118.430133 224.64 \r\nL 118.430133 115.867706 \r\nL 107.038735 115.867706 \r\nz\r\n\" style=\"fill:#1f77b4;opacity:0.4;\"/>\r\n   </g>\r\n   <g id=\"patch_6\">\r\n    <path clip-path=\"url(#pbf62e2d58c)\" d=\"M 118.430133 224.64 \r\nL 129.821532 224.64 \r\nL 129.821532 48.930909 \r\nL 118.430133 48.930909 \r\nz\r\n\" style=\"fill:#1f77b4;opacity:0.4;\"/>\r\n   </g>\r\n   <g id=\"patch_7\">\r\n    <path clip-path=\"url(#pbf62e2d58c)\" d=\"M 129.821532 224.64 \r\nL 141.212931 224.64 \r\nL 141.212931 17.554286 \r\nL 129.821532 17.554286 \r\nz\r\n\" style=\"fill:#1f77b4;opacity:0.4;\"/>\r\n   </g>\r\n   <g id=\"patch_8\">\r\n    <path clip-path=\"url(#pbf62e2d58c)\" d=\"M 141.212931 224.64 \r\nL 152.60433 224.64 \r\nL 152.60433 69.848658 \r\nL 141.212931 69.848658 \r\nz\r\n\" style=\"fill:#1f77b4;opacity:0.4;\"/>\r\n   </g>\r\n   <g id=\"patch_9\">\r\n    <path clip-path=\"url(#pbf62e2d58c)\" d=\"M 152.60433 224.64 \r\nL 163.995729 224.64 \r\nL 163.995729 113.775931 \r\nL 152.60433 113.775931 \r\nz\r\n\" style=\"fill:#1f77b4;opacity:0.4;\"/>\r\n   </g>\r\n   <g id=\"patch_10\">\r\n    <path clip-path=\"url(#pbf62e2d58c)\" d=\"M 163.995729 224.64 \r\nL 175.387128 224.64 \r\nL 175.387128 157.703203 \r\nL 163.995729 157.703203 \r\nz\r\n\" style=\"fill:#1f77b4;opacity:0.4;\"/>\r\n   </g>\r\n   <g id=\"patch_11\">\r\n    <path clip-path=\"url(#pbf62e2d58c)\" d=\"M 175.387128 224.64 \r\nL 186.778527 224.64 \r\nL 186.778527 176.529177 \r\nL 175.387128 176.529177 \r\nz\r\n\" style=\"fill:#1f77b4;opacity:0.4;\"/>\r\n   </g>\r\n   <g id=\"patch_12\">\r\n    <path clip-path=\"url(#pbf62e2d58c)\" d=\"M 186.778527 224.64 \r\nL 198.169926 224.64 \r\nL 198.169926 168.162078 \r\nL 186.778527 168.162078 \r\nz\r\n\" style=\"fill:#1f77b4;opacity:0.4;\"/>\r\n   </g>\r\n   <g id=\"patch_13\">\r\n    <path clip-path=\"url(#pbf62e2d58c)\" d=\"M 198.169926 224.64 \r\nL 209.561324 224.64 \r\nL 209.561324 186.988052 \r\nL 198.169926 186.988052 \r\nz\r\n\" style=\"fill:#1f77b4;opacity:0.4;\"/>\r\n   </g>\r\n   <g id=\"patch_14\">\r\n    <path clip-path=\"url(#pbf62e2d58c)\" d=\"M 209.561324 224.64 \r\nL 220.952723 224.64 \r\nL 220.952723 172.345628 \r\nL 209.561324 172.345628 \r\nz\r\n\" style=\"fill:#1f77b4;opacity:0.4;\"/>\r\n   </g>\r\n   <g id=\"patch_15\">\r\n    <path clip-path=\"url(#pbf62e2d58c)\" d=\"M 220.952723 224.64 \r\nL 232.344122 224.64 \r\nL 232.344122 186.988052 \r\nL 220.952723 186.988052 \r\nz\r\n\" style=\"fill:#1f77b4;opacity:0.4;\"/>\r\n   </g>\r\n   <g id=\"patch_16\">\r\n    <path clip-path=\"url(#pbf62e2d58c)\" d=\"M 232.344122 224.64 \r\nL 243.735521 224.64 \r\nL 243.735521 197.446926 \r\nL 232.344122 197.446926 \r\nz\r\n\" style=\"fill:#1f77b4;opacity:0.4;\"/>\r\n   </g>\r\n   <g id=\"patch_17\">\r\n    <path clip-path=\"url(#pbf62e2d58c)\" d=\"M 243.735521 224.64 \r\nL 255.12692 224.64 \r\nL 255.12692 214.181126 \r\nL 243.735521 214.181126 \r\nz\r\n\" style=\"fill:#1f77b4;opacity:0.4;\"/>\r\n   </g>\r\n   <g id=\"patch_18\">\r\n    <path clip-path=\"url(#pbf62e2d58c)\" d=\"M 255.12692 224.64 \r\nL 266.518319 224.64 \r\nL 266.518319 214.181126 \r\nL 255.12692 214.181126 \r\nz\r\n\" style=\"fill:#1f77b4;opacity:0.4;\"/>\r\n   </g>\r\n   <g id=\"patch_19\">\r\n    <path clip-path=\"url(#pbf62e2d58c)\" d=\"M 266.518319 224.64 \r\nL 277.909718 224.64 \r\nL 277.909718 218.364675 \r\nL 266.518319 218.364675 \r\nz\r\n\" style=\"fill:#1f77b4;opacity:0.4;\"/>\r\n   </g>\r\n   <g id=\"patch_20\">\r\n    <path clip-path=\"url(#pbf62e2d58c)\" d=\"M 277.909718 224.64 \r\nL 289.301117 224.64 \r\nL 289.301117 218.364675 \r\nL 277.909718 218.364675 \r\nz\r\n\" style=\"fill:#1f77b4;opacity:0.4;\"/>\r\n   </g>\r\n   <g id=\"patch_21\">\r\n    <path clip-path=\"url(#pbf62e2d58c)\" d=\"M 289.301117 224.64 \r\nL 300.692515 224.64 \r\nL 300.692515 218.364675 \r\nL 289.301117 218.364675 \r\nz\r\n\" style=\"fill:#1f77b4;opacity:0.4;\"/>\r\n   </g>\r\n   <g id=\"patch_22\">\r\n    <path clip-path=\"url(#pbf62e2d58c)\" d=\"M 300.692515 224.64 \r\nL 312.083914 224.64 \r\nL 312.083914 224.64 \r\nL 300.692515 224.64 \r\nz\r\n\" style=\"fill:#1f77b4;opacity:0.4;\"/>\r\n   </g>\r\n   <g id=\"patch_23\">\r\n    <path clip-path=\"url(#pbf62e2d58c)\" d=\"M 312.083914 224.64 \r\nL 323.475313 224.64 \r\nL 323.475313 222.548225 \r\nL 312.083914 222.548225 \r\nz\r\n\" style=\"fill:#1f77b4;opacity:0.4;\"/>\r\n   </g>\r\n   <g id=\"matplotlib.axis_1\">\r\n    <g id=\"xtick_1\">\r\n     <g id=\"line2d_1\">\r\n      <defs>\r\n       <path d=\"M 0 0 \r\nL 0 3.5 \r\n\" id=\"m6cb596bf0d\" style=\"stroke:#000000;stroke-width:0.8;\"/>\r\n      </defs>\r\n      <g>\r\n       <use style=\"stroke:#000000;stroke-width:0.8;\" x=\"59.321295\" xlink:href=\"#m6cb596bf0d\" y=\"224.64\"/>\r\n      </g>\r\n     </g>\r\n     <g id=\"text_1\">\r\n      <!-- 5 -->\r\n      <defs>\r\n       <path d=\"M 10.796875 72.90625 \r\nL 49.515625 72.90625 \r\nL 49.515625 64.59375 \r\nL 19.828125 64.59375 \r\nL 19.828125 46.734375 \r\nQ 21.96875 47.46875 24.109375 47.828125 \r\nQ 26.265625 48.1875 28.421875 48.1875 \r\nQ 40.625 48.1875 47.75 41.5 \r\nQ 54.890625 34.8125 54.890625 23.390625 \r\nQ 54.890625 11.625 47.5625 5.09375 \r\nQ 40.234375 -1.421875 26.90625 -1.421875 \r\nQ 22.3125 -1.421875 17.546875 -0.640625 \r\nQ 12.796875 0.140625 7.71875 1.703125 \r\nL 7.71875 11.625 \r\nQ 12.109375 9.234375 16.796875 8.0625 \r\nQ 21.484375 6.890625 26.703125 6.890625 \r\nQ 35.15625 6.890625 40.078125 11.328125 \r\nQ 45.015625 15.765625 45.015625 23.390625 \r\nQ 45.015625 31 40.078125 35.4375 \r\nQ 35.15625 39.890625 26.703125 39.890625 \r\nQ 22.75 39.890625 18.8125 39.015625 \r\nQ 14.890625 38.140625 10.796875 36.28125 \r\nz\r\n\" id=\"DejaVuSans-53\"/>\r\n      </defs>\r\n      <g transform=\"translate(56.140045 239.238438)scale(0.1 -0.1)\">\r\n       <use xlink:href=\"#DejaVuSans-53\"/>\r\n      </g>\r\n     </g>\r\n    </g>\r\n    <g id=\"xtick_2\">\r\n     <g id=\"line2d_2\">\r\n      <g>\r\n       <use style=\"stroke:#000000;stroke-width:0.8;\" x=\"101.871878\" xlink:href=\"#m6cb596bf0d\" y=\"224.64\"/>\r\n      </g>\r\n     </g>\r\n     <g id=\"text_2\">\r\n      <!-- 10 -->\r\n      <defs>\r\n       <path d=\"M 12.40625 8.296875 \r\nL 28.515625 8.296875 \r\nL 28.515625 63.921875 \r\nL 10.984375 60.40625 \r\nL 10.984375 69.390625 \r\nL 28.421875 72.90625 \r\nL 38.28125 72.90625 \r\nL 38.28125 8.296875 \r\nL 54.390625 8.296875 \r\nL 54.390625 0 \r\nL 12.40625 0 \r\nz\r\n\" id=\"DejaVuSans-49\"/>\r\n       <path d=\"M 31.78125 66.40625 \r\nQ 24.171875 66.40625 20.328125 58.90625 \r\nQ 16.5 51.421875 16.5 36.375 \r\nQ 16.5 21.390625 20.328125 13.890625 \r\nQ 24.171875 6.390625 31.78125 6.390625 \r\nQ 39.453125 6.390625 43.28125 13.890625 \r\nQ 47.125 21.390625 47.125 36.375 \r\nQ 47.125 51.421875 43.28125 58.90625 \r\nQ 39.453125 66.40625 31.78125 66.40625 \r\nz\r\nM 31.78125 74.21875 \r\nQ 44.046875 74.21875 50.515625 64.515625 \r\nQ 56.984375 54.828125 56.984375 36.375 \r\nQ 56.984375 17.96875 50.515625 8.265625 \r\nQ 44.046875 -1.421875 31.78125 -1.421875 \r\nQ 19.53125 -1.421875 13.0625 8.265625 \r\nQ 6.59375 17.96875 6.59375 36.375 \r\nQ 6.59375 54.828125 13.0625 64.515625 \r\nQ 19.53125 74.21875 31.78125 74.21875 \r\nz\r\n\" id=\"DejaVuSans-48\"/>\r\n      </defs>\r\n      <g transform=\"translate(95.509378 239.238438)scale(0.1 -0.1)\">\r\n       <use xlink:href=\"#DejaVuSans-49\"/>\r\n       <use x=\"63.623047\" xlink:href=\"#DejaVuSans-48\"/>\r\n      </g>\r\n     </g>\r\n    </g>\r\n    <g id=\"xtick_3\">\r\n     <g id=\"line2d_3\">\r\n      <g>\r\n       <use style=\"stroke:#000000;stroke-width:0.8;\" x=\"144.422461\" xlink:href=\"#m6cb596bf0d\" y=\"224.64\"/>\r\n      </g>\r\n     </g>\r\n     <g id=\"text_3\">\r\n      <!-- 15 -->\r\n      <g transform=\"translate(138.059961 239.238438)scale(0.1 -0.1)\">\r\n       <use xlink:href=\"#DejaVuSans-49\"/>\r\n       <use x=\"63.623047\" xlink:href=\"#DejaVuSans-53\"/>\r\n      </g>\r\n     </g>\r\n    </g>\r\n    <g id=\"xtick_4\">\r\n     <g id=\"line2d_4\">\r\n      <g>\r\n       <use style=\"stroke:#000000;stroke-width:0.8;\" x=\"186.973044\" xlink:href=\"#m6cb596bf0d\" y=\"224.64\"/>\r\n      </g>\r\n     </g>\r\n     <g id=\"text_4\">\r\n      <!-- 20 -->\r\n      <defs>\r\n       <path d=\"M 19.1875 8.296875 \r\nL 53.609375 8.296875 \r\nL 53.609375 0 \r\nL 7.328125 0 \r\nL 7.328125 8.296875 \r\nQ 12.9375 14.109375 22.625 23.890625 \r\nQ 32.328125 33.6875 34.8125 36.53125 \r\nQ 39.546875 41.84375 41.421875 45.53125 \r\nQ 43.3125 49.21875 43.3125 52.78125 \r\nQ 43.3125 58.59375 39.234375 62.25 \r\nQ 35.15625 65.921875 28.609375 65.921875 \r\nQ 23.96875 65.921875 18.8125 64.3125 \r\nQ 13.671875 62.703125 7.8125 59.421875 \r\nL 7.8125 69.390625 \r\nQ 13.765625 71.78125 18.9375 73 \r\nQ 24.125 74.21875 28.421875 74.21875 \r\nQ 39.75 74.21875 46.484375 68.546875 \r\nQ 53.21875 62.890625 53.21875 53.421875 \r\nQ 53.21875 48.921875 51.53125 44.890625 \r\nQ 49.859375 40.875 45.40625 35.40625 \r\nQ 44.1875 33.984375 37.640625 27.21875 \r\nQ 31.109375 20.453125 19.1875 8.296875 \r\nz\r\n\" id=\"DejaVuSans-50\"/>\r\n      </defs>\r\n      <g transform=\"translate(180.610544 239.238438)scale(0.1 -0.1)\">\r\n       <use xlink:href=\"#DejaVuSans-50\"/>\r\n       <use x=\"63.623047\" xlink:href=\"#DejaVuSans-48\"/>\r\n      </g>\r\n     </g>\r\n    </g>\r\n    <g id=\"xtick_5\">\r\n     <g id=\"line2d_5\">\r\n      <g>\r\n       <use style=\"stroke:#000000;stroke-width:0.8;\" x=\"229.523626\" xlink:href=\"#m6cb596bf0d\" y=\"224.64\"/>\r\n      </g>\r\n     </g>\r\n     <g id=\"text_5\">\r\n      <!-- 25 -->\r\n      <g transform=\"translate(223.161126 239.238438)scale(0.1 -0.1)\">\r\n       <use xlink:href=\"#DejaVuSans-50\"/>\r\n       <use x=\"63.623047\" xlink:href=\"#DejaVuSans-53\"/>\r\n      </g>\r\n     </g>\r\n    </g>\r\n    <g id=\"xtick_6\">\r\n     <g id=\"line2d_6\">\r\n      <g>\r\n       <use style=\"stroke:#000000;stroke-width:0.8;\" x=\"272.074209\" xlink:href=\"#m6cb596bf0d\" y=\"224.64\"/>\r\n      </g>\r\n     </g>\r\n     <g id=\"text_6\">\r\n      <!-- 30 -->\r\n      <defs>\r\n       <path d=\"M 40.578125 39.3125 \r\nQ 47.65625 37.796875 51.625 33 \r\nQ 55.609375 28.21875 55.609375 21.1875 \r\nQ 55.609375 10.40625 48.1875 4.484375 \r\nQ 40.765625 -1.421875 27.09375 -1.421875 \r\nQ 22.515625 -1.421875 17.65625 -0.515625 \r\nQ 12.796875 0.390625 7.625 2.203125 \r\nL 7.625 11.71875 \r\nQ 11.71875 9.328125 16.59375 8.109375 \r\nQ 21.484375 6.890625 26.8125 6.890625 \r\nQ 36.078125 6.890625 40.9375 10.546875 \r\nQ 45.796875 14.203125 45.796875 21.1875 \r\nQ 45.796875 27.640625 41.28125 31.265625 \r\nQ 36.765625 34.90625 28.71875 34.90625 \r\nL 20.21875 34.90625 \r\nL 20.21875 43.015625 \r\nL 29.109375 43.015625 \r\nQ 36.375 43.015625 40.234375 45.921875 \r\nQ 44.09375 48.828125 44.09375 54.296875 \r\nQ 44.09375 59.90625 40.109375 62.90625 \r\nQ 36.140625 65.921875 28.71875 65.921875 \r\nQ 24.65625 65.921875 20.015625 65.03125 \r\nQ 15.375 64.15625 9.8125 62.3125 \r\nL 9.8125 71.09375 \r\nQ 15.4375 72.65625 20.34375 73.4375 \r\nQ 25.25 74.21875 29.59375 74.21875 \r\nQ 40.828125 74.21875 47.359375 69.109375 \r\nQ 53.90625 64.015625 53.90625 55.328125 \r\nQ 53.90625 49.265625 50.4375 45.09375 \r\nQ 46.96875 40.921875 40.578125 39.3125 \r\nz\r\n\" id=\"DejaVuSans-51\"/>\r\n      </defs>\r\n      <g transform=\"translate(265.711709 239.238438)scale(0.1 -0.1)\">\r\n       <use xlink:href=\"#DejaVuSans-51\"/>\r\n       <use x=\"63.623047\" xlink:href=\"#DejaVuSans-48\"/>\r\n      </g>\r\n     </g>\r\n    </g>\r\n    <g id=\"xtick_7\">\r\n     <g id=\"line2d_7\">\r\n      <g>\r\n       <use style=\"stroke:#000000;stroke-width:0.8;\" x=\"314.624792\" xlink:href=\"#m6cb596bf0d\" y=\"224.64\"/>\r\n      </g>\r\n     </g>\r\n     <g id=\"text_7\">\r\n      <!-- 35 -->\r\n      <g transform=\"translate(308.262292 239.238438)scale(0.1 -0.1)\">\r\n       <use xlink:href=\"#DejaVuSans-51\"/>\r\n       <use x=\"63.623047\" xlink:href=\"#DejaVuSans-53\"/>\r\n      </g>\r\n     </g>\r\n    </g>\r\n    <g id=\"xtick_8\">\r\n     <g id=\"line2d_8\">\r\n      <g>\r\n       <use style=\"stroke:#000000;stroke-width:0.8;\" x=\"357.175375\" xlink:href=\"#m6cb596bf0d\" y=\"224.64\"/>\r\n      </g>\r\n     </g>\r\n     <g id=\"text_8\">\r\n      <!-- 40 -->\r\n      <defs>\r\n       <path d=\"M 37.796875 64.3125 \r\nL 12.890625 25.390625 \r\nL 37.796875 25.390625 \r\nz\r\nM 35.203125 72.90625 \r\nL 47.609375 72.90625 \r\nL 47.609375 25.390625 \r\nL 58.015625 25.390625 \r\nL 58.015625 17.1875 \r\nL 47.609375 17.1875 \r\nL 47.609375 0 \r\nL 37.796875 0 \r\nL 37.796875 17.1875 \r\nL 4.890625 17.1875 \r\nL 4.890625 26.703125 \r\nz\r\n\" id=\"DejaVuSans-52\"/>\r\n      </defs>\r\n      <g transform=\"translate(350.812875 239.238438)scale(0.1 -0.1)\">\r\n       <use xlink:href=\"#DejaVuSans-52\"/>\r\n       <use x=\"63.623047\" xlink:href=\"#DejaVuSans-48\"/>\r\n      </g>\r\n     </g>\r\n    </g>\r\n    <g id=\"text_9\">\r\n     <!-- radius_worst -->\r\n     <defs>\r\n      <path d=\"M 41.109375 46.296875 \r\nQ 39.59375 47.171875 37.8125 47.578125 \r\nQ 36.03125 48 33.890625 48 \r\nQ 26.265625 48 22.1875 43.046875 \r\nQ 18.109375 38.09375 18.109375 28.8125 \r\nL 18.109375 0 \r\nL 9.078125 0 \r\nL 9.078125 54.6875 \r\nL 18.109375 54.6875 \r\nL 18.109375 46.1875 \r\nQ 20.953125 51.171875 25.484375 53.578125 \r\nQ 30.03125 56 36.53125 56 \r\nQ 37.453125 56 38.578125 55.875 \r\nQ 39.703125 55.765625 41.0625 55.515625 \r\nz\r\n\" id=\"DejaVuSans-114\"/>\r\n      <path d=\"M 34.28125 27.484375 \r\nQ 23.390625 27.484375 19.1875 25 \r\nQ 14.984375 22.515625 14.984375 16.5 \r\nQ 14.984375 11.71875 18.140625 8.90625 \r\nQ 21.296875 6.109375 26.703125 6.109375 \r\nQ 34.1875 6.109375 38.703125 11.40625 \r\nQ 43.21875 16.703125 43.21875 25.484375 \r\nL 43.21875 27.484375 \r\nz\r\nM 52.203125 31.203125 \r\nL 52.203125 0 \r\nL 43.21875 0 \r\nL 43.21875 8.296875 \r\nQ 40.140625 3.328125 35.546875 0.953125 \r\nQ 30.953125 -1.421875 24.3125 -1.421875 \r\nQ 15.921875 -1.421875 10.953125 3.296875 \r\nQ 6 8.015625 6 15.921875 \r\nQ 6 25.140625 12.171875 29.828125 \r\nQ 18.359375 34.515625 30.609375 34.515625 \r\nL 43.21875 34.515625 \r\nL 43.21875 35.40625 \r\nQ 43.21875 41.609375 39.140625 45 \r\nQ 35.0625 48.390625 27.6875 48.390625 \r\nQ 23 48.390625 18.546875 47.265625 \r\nQ 14.109375 46.140625 10.015625 43.890625 \r\nL 10.015625 52.203125 \r\nQ 14.9375 54.109375 19.578125 55.046875 \r\nQ 24.21875 56 28.609375 56 \r\nQ 40.484375 56 46.34375 49.84375 \r\nQ 52.203125 43.703125 52.203125 31.203125 \r\nz\r\n\" id=\"DejaVuSans-97\"/>\r\n      <path d=\"M 45.40625 46.390625 \r\nL 45.40625 75.984375 \r\nL 54.390625 75.984375 \r\nL 54.390625 0 \r\nL 45.40625 0 \r\nL 45.40625 8.203125 \r\nQ 42.578125 3.328125 38.25 0.953125 \r\nQ 33.9375 -1.421875 27.875 -1.421875 \r\nQ 17.96875 -1.421875 11.734375 6.484375 \r\nQ 5.515625 14.40625 5.515625 27.296875 \r\nQ 5.515625 40.1875 11.734375 48.09375 \r\nQ 17.96875 56 27.875 56 \r\nQ 33.9375 56 38.25 53.625 \r\nQ 42.578125 51.265625 45.40625 46.390625 \r\nz\r\nM 14.796875 27.296875 \r\nQ 14.796875 17.390625 18.875 11.75 \r\nQ 22.953125 6.109375 30.078125 6.109375 \r\nQ 37.203125 6.109375 41.296875 11.75 \r\nQ 45.40625 17.390625 45.40625 27.296875 \r\nQ 45.40625 37.203125 41.296875 42.84375 \r\nQ 37.203125 48.484375 30.078125 48.484375 \r\nQ 22.953125 48.484375 18.875 42.84375 \r\nQ 14.796875 37.203125 14.796875 27.296875 \r\nz\r\n\" id=\"DejaVuSans-100\"/>\r\n      <path d=\"M 9.421875 54.6875 \r\nL 18.40625 54.6875 \r\nL 18.40625 0 \r\nL 9.421875 0 \r\nz\r\nM 9.421875 75.984375 \r\nL 18.40625 75.984375 \r\nL 18.40625 64.59375 \r\nL 9.421875 64.59375 \r\nz\r\n\" id=\"DejaVuSans-105\"/>\r\n      <path d=\"M 8.5 21.578125 \r\nL 8.5 54.6875 \r\nL 17.484375 54.6875 \r\nL 17.484375 21.921875 \r\nQ 17.484375 14.15625 20.5 10.265625 \r\nQ 23.53125 6.390625 29.59375 6.390625 \r\nQ 36.859375 6.390625 41.078125 11.03125 \r\nQ 45.3125 15.671875 45.3125 23.6875 \r\nL 45.3125 54.6875 \r\nL 54.296875 54.6875 \r\nL 54.296875 0 \r\nL 45.3125 0 \r\nL 45.3125 8.40625 \r\nQ 42.046875 3.421875 37.71875 1 \r\nQ 33.40625 -1.421875 27.6875 -1.421875 \r\nQ 18.265625 -1.421875 13.375 4.4375 \r\nQ 8.5 10.296875 8.5 21.578125 \r\nz\r\nM 31.109375 56 \r\nz\r\n\" id=\"DejaVuSans-117\"/>\r\n      <path d=\"M 44.28125 53.078125 \r\nL 44.28125 44.578125 \r\nQ 40.484375 46.53125 36.375 47.5 \r\nQ 32.28125 48.484375 27.875 48.484375 \r\nQ 21.1875 48.484375 17.84375 46.4375 \r\nQ 14.5 44.390625 14.5 40.28125 \r\nQ 14.5 37.15625 16.890625 35.375 \r\nQ 19.28125 33.59375 26.515625 31.984375 \r\nL 29.59375 31.296875 \r\nQ 39.15625 29.25 43.1875 25.515625 \r\nQ 47.21875 21.78125 47.21875 15.09375 \r\nQ 47.21875 7.46875 41.1875 3.015625 \r\nQ 35.15625 -1.421875 24.609375 -1.421875 \r\nQ 20.21875 -1.421875 15.453125 -0.5625 \r\nQ 10.6875 0.296875 5.421875 2 \r\nL 5.421875 11.28125 \r\nQ 10.40625 8.6875 15.234375 7.390625 \r\nQ 20.0625 6.109375 24.8125 6.109375 \r\nQ 31.15625 6.109375 34.5625 8.28125 \r\nQ 37.984375 10.453125 37.984375 14.40625 \r\nQ 37.984375 18.0625 35.515625 20.015625 \r\nQ 33.0625 21.96875 24.703125 23.78125 \r\nL 21.578125 24.515625 \r\nQ 13.234375 26.265625 9.515625 29.90625 \r\nQ 5.8125 33.546875 5.8125 39.890625 \r\nQ 5.8125 47.609375 11.28125 51.796875 \r\nQ 16.75 56 26.8125 56 \r\nQ 31.78125 56 36.171875 55.265625 \r\nQ 40.578125 54.546875 44.28125 53.078125 \r\nz\r\n\" id=\"DejaVuSans-115\"/>\r\n      <path d=\"M 50.984375 -16.609375 \r\nL 50.984375 -23.578125 \r\nL -0.984375 -23.578125 \r\nL -0.984375 -16.609375 \r\nz\r\n\" id=\"DejaVuSans-95\"/>\r\n      <path d=\"M 4.203125 54.6875 \r\nL 13.1875 54.6875 \r\nL 24.421875 12.015625 \r\nL 35.59375 54.6875 \r\nL 46.1875 54.6875 \r\nL 57.421875 12.015625 \r\nL 68.609375 54.6875 \r\nL 77.59375 54.6875 \r\nL 63.28125 0 \r\nL 52.6875 0 \r\nL 40.921875 44.828125 \r\nL 29.109375 0 \r\nL 18.5 0 \r\nz\r\n\" id=\"DejaVuSans-119\"/>\r\n      <path d=\"M 30.609375 48.390625 \r\nQ 23.390625 48.390625 19.1875 42.75 \r\nQ 14.984375 37.109375 14.984375 27.296875 \r\nQ 14.984375 17.484375 19.15625 11.84375 \r\nQ 23.34375 6.203125 30.609375 6.203125 \r\nQ 37.796875 6.203125 41.984375 11.859375 \r\nQ 46.1875 17.53125 46.1875 27.296875 \r\nQ 46.1875 37.015625 41.984375 42.703125 \r\nQ 37.796875 48.390625 30.609375 48.390625 \r\nz\r\nM 30.609375 56 \r\nQ 42.328125 56 49.015625 48.375 \r\nQ 55.71875 40.765625 55.71875 27.296875 \r\nQ 55.71875 13.875 49.015625 6.21875 \r\nQ 42.328125 -1.421875 30.609375 -1.421875 \r\nQ 18.84375 -1.421875 12.171875 6.21875 \r\nQ 5.515625 13.875 5.515625 27.296875 \r\nQ 5.515625 40.765625 12.171875 48.375 \r\nQ 18.84375 56 30.609375 56 \r\nz\r\n\" id=\"DejaVuSans-111\"/>\r\n      <path d=\"M 18.3125 70.21875 \r\nL 18.3125 54.6875 \r\nL 36.8125 54.6875 \r\nL 36.8125 47.703125 \r\nL 18.3125 47.703125 \r\nL 18.3125 18.015625 \r\nQ 18.3125 11.328125 20.140625 9.421875 \r\nQ 21.96875 7.515625 27.59375 7.515625 \r\nL 36.8125 7.515625 \r\nL 36.8125 0 \r\nL 27.59375 0 \r\nQ 17.1875 0 13.234375 3.875 \r\nQ 9.28125 7.765625 9.28125 18.015625 \r\nL 9.28125 47.703125 \r\nL 2.6875 47.703125 \r\nL 2.6875 54.6875 \r\nL 9.28125 54.6875 \r\nL 9.28125 70.21875 \r\nz\r\n\" id=\"DejaVuSans-116\"/>\r\n     </defs>\r\n     <g transform=\"translate(172.140625 252.916562)scale(0.1 -0.1)\">\r\n      <use xlink:href=\"#DejaVuSans-114\"/>\r\n      <use x=\"41.113281\" xlink:href=\"#DejaVuSans-97\"/>\r\n      <use x=\"102.392578\" xlink:href=\"#DejaVuSans-100\"/>\r\n      <use x=\"165.869141\" xlink:href=\"#DejaVuSans-105\"/>\r\n      <use x=\"193.652344\" xlink:href=\"#DejaVuSans-117\"/>\r\n      <use x=\"257.03125\" xlink:href=\"#DejaVuSans-115\"/>\r\n      <use x=\"309.130859\" xlink:href=\"#DejaVuSans-95\"/>\r\n      <use x=\"359.130859\" xlink:href=\"#DejaVuSans-119\"/>\r\n      <use x=\"440.917969\" xlink:href=\"#DejaVuSans-111\"/>\r\n      <use x=\"502.099609\" xlink:href=\"#DejaVuSans-114\"/>\r\n      <use x=\"543.212891\" xlink:href=\"#DejaVuSans-115\"/>\r\n      <use x=\"595.3125\" xlink:href=\"#DejaVuSans-116\"/>\r\n     </g>\r\n    </g>\r\n   </g>\r\n   <g id=\"matplotlib.axis_2\">\r\n    <g id=\"ytick_1\">\r\n     <g id=\"line2d_9\">\r\n      <defs>\r\n       <path d=\"M 0 0 \r\nL -3.5 0 \r\n\" id=\"m5e4c77d666\" style=\"stroke:#000000;stroke-width:0.8;\"/>\r\n      </defs>\r\n      <g>\r\n       <use style=\"stroke:#000000;stroke-width:0.8;\" x=\"36.465625\" xlink:href=\"#m5e4c77d666\" y=\"224.64\"/>\r\n      </g>\r\n     </g>\r\n     <g id=\"text_10\">\r\n      <!-- 0.00 -->\r\n      <defs>\r\n       <path d=\"M 10.6875 12.40625 \r\nL 21 12.40625 \r\nL 21 0 \r\nL 10.6875 0 \r\nz\r\n\" id=\"DejaVuSans-46\"/>\r\n      </defs>\r\n      <g transform=\"translate(7.2 228.439219)scale(0.1 -0.1)\">\r\n       <use xlink:href=\"#DejaVuSans-48\"/>\r\n       <use x=\"63.623047\" xlink:href=\"#DejaVuSans-46\"/>\r\n       <use x=\"95.410156\" xlink:href=\"#DejaVuSans-48\"/>\r\n       <use x=\"159.033203\" xlink:href=\"#DejaVuSans-48\"/>\r\n      </g>\r\n     </g>\r\n    </g>\r\n    <g id=\"ytick_2\">\r\n     <g id=\"line2d_10\">\r\n      <g>\r\n       <use style=\"stroke:#000000;stroke-width:0.8;\" x=\"36.465625\" xlink:href=\"#m5e4c77d666\" y=\"192.776113\"/>\r\n      </g>\r\n     </g>\r\n     <g id=\"text_11\">\r\n      <!-- 0.02 -->\r\n      <g transform=\"translate(7.2 196.575331)scale(0.1 -0.1)\">\r\n       <use xlink:href=\"#DejaVuSans-48\"/>\r\n       <use x=\"63.623047\" xlink:href=\"#DejaVuSans-46\"/>\r\n       <use x=\"95.410156\" xlink:href=\"#DejaVuSans-48\"/>\r\n       <use x=\"159.033203\" xlink:href=\"#DejaVuSans-50\"/>\r\n      </g>\r\n     </g>\r\n    </g>\r\n    <g id=\"ytick_3\">\r\n     <g id=\"line2d_11\">\r\n      <g>\r\n       <use style=\"stroke:#000000;stroke-width:0.8;\" x=\"36.465625\" xlink:href=\"#m5e4c77d666\" y=\"160.912225\"/>\r\n      </g>\r\n     </g>\r\n     <g id=\"text_12\">\r\n      <!-- 0.04 -->\r\n      <g transform=\"translate(7.2 164.711444)scale(0.1 -0.1)\">\r\n       <use xlink:href=\"#DejaVuSans-48\"/>\r\n       <use x=\"63.623047\" xlink:href=\"#DejaVuSans-46\"/>\r\n       <use x=\"95.410156\" xlink:href=\"#DejaVuSans-48\"/>\r\n       <use x=\"159.033203\" xlink:href=\"#DejaVuSans-52\"/>\r\n      </g>\r\n     </g>\r\n    </g>\r\n    <g id=\"ytick_4\">\r\n     <g id=\"line2d_12\">\r\n      <g>\r\n       <use style=\"stroke:#000000;stroke-width:0.8;\" x=\"36.465625\" xlink:href=\"#m5e4c77d666\" y=\"129.048338\"/>\r\n      </g>\r\n     </g>\r\n     <g id=\"text_13\">\r\n      <!-- 0.06 -->\r\n      <defs>\r\n       <path d=\"M 33.015625 40.375 \r\nQ 26.375 40.375 22.484375 35.828125 \r\nQ 18.609375 31.296875 18.609375 23.390625 \r\nQ 18.609375 15.53125 22.484375 10.953125 \r\nQ 26.375 6.390625 33.015625 6.390625 \r\nQ 39.65625 6.390625 43.53125 10.953125 \r\nQ 47.40625 15.53125 47.40625 23.390625 \r\nQ 47.40625 31.296875 43.53125 35.828125 \r\nQ 39.65625 40.375 33.015625 40.375 \r\nz\r\nM 52.59375 71.296875 \r\nL 52.59375 62.3125 \r\nQ 48.875 64.0625 45.09375 64.984375 \r\nQ 41.3125 65.921875 37.59375 65.921875 \r\nQ 27.828125 65.921875 22.671875 59.328125 \r\nQ 17.53125 52.734375 16.796875 39.40625 \r\nQ 19.671875 43.65625 24.015625 45.921875 \r\nQ 28.375 48.1875 33.59375 48.1875 \r\nQ 44.578125 48.1875 50.953125 41.515625 \r\nQ 57.328125 34.859375 57.328125 23.390625 \r\nQ 57.328125 12.15625 50.6875 5.359375 \r\nQ 44.046875 -1.421875 33.015625 -1.421875 \r\nQ 20.359375 -1.421875 13.671875 8.265625 \r\nQ 6.984375 17.96875 6.984375 36.375 \r\nQ 6.984375 53.65625 15.1875 63.9375 \r\nQ 23.390625 74.21875 37.203125 74.21875 \r\nQ 40.921875 74.21875 44.703125 73.484375 \r\nQ 48.484375 72.75 52.59375 71.296875 \r\nz\r\n\" id=\"DejaVuSans-54\"/>\r\n      </defs>\r\n      <g transform=\"translate(7.2 132.847557)scale(0.1 -0.1)\">\r\n       <use xlink:href=\"#DejaVuSans-48\"/>\r\n       <use x=\"63.623047\" xlink:href=\"#DejaVuSans-46\"/>\r\n       <use x=\"95.410156\" xlink:href=\"#DejaVuSans-48\"/>\r\n       <use x=\"159.033203\" xlink:href=\"#DejaVuSans-54\"/>\r\n      </g>\r\n     </g>\r\n    </g>\r\n    <g id=\"ytick_5\">\r\n     <g id=\"line2d_13\">\r\n      <g>\r\n       <use style=\"stroke:#000000;stroke-width:0.8;\" x=\"36.465625\" xlink:href=\"#m5e4c77d666\" y=\"97.18445\"/>\r\n      </g>\r\n     </g>\r\n     <g id=\"text_14\">\r\n      <!-- 0.08 -->\r\n      <defs>\r\n       <path d=\"M 31.78125 34.625 \r\nQ 24.75 34.625 20.71875 30.859375 \r\nQ 16.703125 27.09375 16.703125 20.515625 \r\nQ 16.703125 13.921875 20.71875 10.15625 \r\nQ 24.75 6.390625 31.78125 6.390625 \r\nQ 38.8125 6.390625 42.859375 10.171875 \r\nQ 46.921875 13.96875 46.921875 20.515625 \r\nQ 46.921875 27.09375 42.890625 30.859375 \r\nQ 38.875 34.625 31.78125 34.625 \r\nz\r\nM 21.921875 38.8125 \r\nQ 15.578125 40.375 12.03125 44.71875 \r\nQ 8.5 49.078125 8.5 55.328125 \r\nQ 8.5 64.0625 14.71875 69.140625 \r\nQ 20.953125 74.21875 31.78125 74.21875 \r\nQ 42.671875 74.21875 48.875 69.140625 \r\nQ 55.078125 64.0625 55.078125 55.328125 \r\nQ 55.078125 49.078125 51.53125 44.71875 \r\nQ 48 40.375 41.703125 38.8125 \r\nQ 48.828125 37.15625 52.796875 32.3125 \r\nQ 56.78125 27.484375 56.78125 20.515625 \r\nQ 56.78125 9.90625 50.3125 4.234375 \r\nQ 43.84375 -1.421875 31.78125 -1.421875 \r\nQ 19.734375 -1.421875 13.25 4.234375 \r\nQ 6.78125 9.90625 6.78125 20.515625 \r\nQ 6.78125 27.484375 10.78125 32.3125 \r\nQ 14.796875 37.15625 21.921875 38.8125 \r\nz\r\nM 18.3125 54.390625 \r\nQ 18.3125 48.734375 21.84375 45.5625 \r\nQ 25.390625 42.390625 31.78125 42.390625 \r\nQ 38.140625 42.390625 41.71875 45.5625 \r\nQ 45.3125 48.734375 45.3125 54.390625 \r\nQ 45.3125 60.0625 41.71875 63.234375 \r\nQ 38.140625 66.40625 31.78125 66.40625 \r\nQ 25.390625 66.40625 21.84375 63.234375 \r\nQ 18.3125 60.0625 18.3125 54.390625 \r\nz\r\n\" id=\"DejaVuSans-56\"/>\r\n      </defs>\r\n      <g transform=\"translate(7.2 100.983669)scale(0.1 -0.1)\">\r\n       <use xlink:href=\"#DejaVuSans-48\"/>\r\n       <use x=\"63.623047\" xlink:href=\"#DejaVuSans-46\"/>\r\n       <use x=\"95.410156\" xlink:href=\"#DejaVuSans-48\"/>\r\n       <use x=\"159.033203\" xlink:href=\"#DejaVuSans-56\"/>\r\n      </g>\r\n     </g>\r\n    </g>\r\n    <g id=\"ytick_6\">\r\n     <g id=\"line2d_14\">\r\n      <g>\r\n       <use style=\"stroke:#000000;stroke-width:0.8;\" x=\"36.465625\" xlink:href=\"#m5e4c77d666\" y=\"65.320563\"/>\r\n      </g>\r\n     </g>\r\n     <g id=\"text_15\">\r\n      <!-- 0.10 -->\r\n      <g transform=\"translate(7.2 69.119782)scale(0.1 -0.1)\">\r\n       <use xlink:href=\"#DejaVuSans-48\"/>\r\n       <use x=\"63.623047\" xlink:href=\"#DejaVuSans-46\"/>\r\n       <use x=\"95.410156\" xlink:href=\"#DejaVuSans-49\"/>\r\n       <use x=\"159.033203\" xlink:href=\"#DejaVuSans-48\"/>\r\n      </g>\r\n     </g>\r\n    </g>\r\n    <g id=\"ytick_7\">\r\n     <g id=\"line2d_15\">\r\n      <g>\r\n       <use style=\"stroke:#000000;stroke-width:0.8;\" x=\"36.465625\" xlink:href=\"#m5e4c77d666\" y=\"33.456676\"/>\r\n      </g>\r\n     </g>\r\n     <g id=\"text_16\">\r\n      <!-- 0.12 -->\r\n      <g transform=\"translate(7.2 37.255894)scale(0.1 -0.1)\">\r\n       <use xlink:href=\"#DejaVuSans-48\"/>\r\n       <use x=\"63.623047\" xlink:href=\"#DejaVuSans-46\"/>\r\n       <use x=\"95.410156\" xlink:href=\"#DejaVuSans-49\"/>\r\n       <use x=\"159.033203\" xlink:href=\"#DejaVuSans-50\"/>\r\n      </g>\r\n     </g>\r\n    </g>\r\n   </g>\r\n   <g id=\"line2d_16\">\r\n    <path clip-path=\"url(#pbf62e2d58c)\" d=\"M 51.683807 224.618798 \r\nL 58.873499 224.524735 \r\nL 63.666627 224.278777 \r\nL 66.063191 224.029665 \r\nL 68.459755 223.640173 \r\nL 70.856319 223.050815 \r\nL 73.252883 222.187262 \r\nL 75.649447 220.961444 \r\nL 78.046012 219.27494 \r\nL 80.442576 217.024799 \r\nL 82.83914 214.111396 \r\nL 85.235704 210.447314 \r\nL 87.632268 205.96584 \r\nL 90.028832 200.627461 \r\nL 92.425396 194.423036 \r\nL 94.82196 187.372824 \r\nL 97.218524 179.521342 \r\nL 99.615088 170.928979 \r\nL 102.011652 161.662375 \r\nL 104.408216 151.786692 \r\nL 109.201344 130.45888 \r\nL 113.994473 107.602089 \r\nL 118.787601 84.646049 \r\nL 121.184165 73.944027 \r\nL 123.580729 64.342932 \r\nL 125.977293 56.30084 \r\nL 128.373857 50.213884 \r\nL 130.770421 46.353349 \r\nL 133.166985 44.824959 \r\nL 135.563549 45.561581 \r\nL 137.960113 48.350053 \r\nL 140.356677 52.882291 \r\nL 142.753241 58.814541 \r\nL 145.149805 65.818414 \r\nL 147.546369 73.612617 \r\nL 152.339498 90.718482 \r\nL 161.925754 126.517095 \r\nL 164.322318 134.822165 \r\nL 166.718882 142.48538 \r\nL 169.115446 149.325945 \r\nL 171.51201 155.204133 \r\nL 173.908574 160.044026 \r\nL 176.305138 163.849317 \r\nL 178.701702 166.706917 \r\nL 181.098266 168.775329 \r\nL 183.49483 170.258463 \r\nL 185.891395 171.369905 \r\nL 193.081087 174.045158 \r\nL 197.874215 175.770101 \r\nL 200.270779 176.515929 \r\nL 202.667343 177.125331 \r\nL 207.460471 177.971084 \r\nL 212.253599 178.771701 \r\nL 214.650163 179.39587 \r\nL 217.046727 180.281071 \r\nL 219.443291 181.475179 \r\nL 221.839855 182.992413 \r\nL 224.23642 184.817959 \r\nL 226.632984 186.91635 \r\nL 229.029548 189.239744 \r\nL 233.822676 194.337929 \r\nL 241.012368 202.158345 \r\nL 243.408932 204.5431 \r\nL 245.805496 206.721634 \r\nL 248.20206 208.660973 \r\nL 250.598624 210.349212 \r\nL 252.995188 211.793101 \r\nL 255.391752 213.011827 \r\nL 257.788316 214.029667 \r\nL 260.184881 214.870481 \r\nL 262.581445 215.555872 \r\nL 267.374573 216.547421 \r\nL 274.564265 217.513089 \r\nL 281.753957 218.532067 \r\nL 303.323034 221.994249 \r\nL 308.116162 222.661583 \r\nL 312.90929 223.147211 \r\nL 317.702418 223.4255 \r\nL 336.874931 224.225096 \r\nL 346.461187 224.543326 \r\nL 356.047443 224.621886 \r\nL 356.047443 224.621886 \r\n\" style=\"fill:none;stroke:#1f77b4;stroke-linecap:square;stroke-width:1.5;\"/>\r\n   </g>\r\n   <g id=\"patch_24\">\r\n    <path d=\"M 36.465625 224.64 \r\nL 36.465625 7.2 \r\n\" style=\"fill:none;stroke:#000000;stroke-linecap:square;stroke-linejoin:miter;stroke-width:0.8;\"/>\r\n   </g>\r\n   <g id=\"patch_25\">\r\n    <path d=\"M 371.265625 224.64 \r\nL 371.265625 7.2 \r\n\" style=\"fill:none;stroke:#000000;stroke-linecap:square;stroke-linejoin:miter;stroke-width:0.8;\"/>\r\n   </g>\r\n   <g id=\"patch_26\">\r\n    <path d=\"M 36.465625 224.64 \r\nL 371.265625 224.64 \r\n\" style=\"fill:none;stroke:#000000;stroke-linecap:square;stroke-linejoin:miter;stroke-width:0.8;\"/>\r\n   </g>\r\n   <g id=\"patch_27\">\r\n    <path d=\"M 36.465625 7.2 \r\nL 371.265625 7.2 \r\n\" style=\"fill:none;stroke:#000000;stroke-linecap:square;stroke-linejoin:miter;stroke-width:0.8;\"/>\r\n   </g>\r\n  </g>\r\n </g>\r\n <defs>\r\n  <clipPath id=\"pbf62e2d58c\">\r\n   <rect height=\"217.44\" width=\"334.8\" x=\"36.465625\" y=\"7.2\"/>\r\n  </clipPath>\r\n </defs>\r\n</svg>\r\n",
      "image/png": "[encoded data removed]"
     },
     "metadata": {
      "needs_background": "light"
     }
    }
   ],
   "source": [
    "#Let`s start from \"radius_worst\"\n",
    "radius_worst = data[\"radius_worst\"]\n",
    "sns.distplot(radius_worst)\n",
    " \n",
    "plt.show() \n",
    "\n"
   ]
  },
  {
   "cell_type": "code",
   "execution_count": 103,
   "metadata": {},
   "outputs": [
    {
     "output_type": "error",
     "ename": "NameError",
     "evalue": "name 'Y' is not defined",
     "traceback": [
      "\u001b[1;31m---------------------------------------------------------------------------\u001b[0m",
      "\u001b[1;31mNameError\u001b[0m                                 Traceback (most recent call last)",
      "\u001b[1;32m<ipython-input-103-f7bd88616dd8>\u001b[0m in \u001b[0;36m<module>\u001b[1;34m\u001b[0m\n\u001b[0;32m      1\u001b[0m \u001b[1;32mfrom\u001b[0m \u001b[0msklearn\u001b[0m\u001b[1;33m.\u001b[0m\u001b[0mpreprocessing\u001b[0m \u001b[1;32mimport\u001b[0m \u001b[0mLabelEncoder\u001b[0m\u001b[1;33m\u001b[0m\u001b[1;33m\u001b[0m\u001b[0m\n\u001b[0;32m      2\u001b[0m \u001b[0mlabelencoder_Y\u001b[0m \u001b[1;33m=\u001b[0m \u001b[0mLabelEncoder\u001b[0m\u001b[1;33m(\u001b[0m\u001b[1;33m)\u001b[0m\u001b[1;33m\u001b[0m\u001b[1;33m\u001b[0m\u001b[0m\n\u001b[1;32m----> 3\u001b[1;33m \u001b[0mY\u001b[0m \u001b[1;33m=\u001b[0m \u001b[0mlabelencoder_Y\u001b[0m\u001b[1;33m.\u001b[0m\u001b[0mfit_transform\u001b[0m\u001b[1;33m(\u001b[0m\u001b[0mY\u001b[0m\u001b[1;33m)\u001b[0m\u001b[1;33m\u001b[0m\u001b[1;33m\u001b[0m\u001b[0m\n\u001b[0m\u001b[0;32m      4\u001b[0m \u001b[1;33m\u001b[0m\u001b[0m\n\u001b[0;32m      5\u001b[0m \u001b[1;33m\u001b[0m\u001b[0m\n",
      "\u001b[1;31mNameError\u001b[0m: name 'Y' is not defined"
     ]
    }
   ],
   "source": [
    "from sklearn.preprocessing import LabelEncoder\n",
    "labelencoder_Y = LabelEncoder()\n",
    "Y = labelencoder_Y.fit_transform(Y)\n",
    "\n",
    "\n",
    "f, (ax1, ax2) = plt.subplots(1, 2, sharey=True)\n",
    "\n",
    "\n",
    "ax1.scatter(Y[:,0],Y[:,1],  c=kY, cmap = \"jet\", edgecolor = \"None\", alpha=0.35)\n",
    "ax1.set_title('Hierarchical clustering plot')\n",
    "\n",
    "ax2.scatter(Y[:,0],Y[:,1],  c = datas['diagnosis'], cmap = \"jet\", edgecolor = \"None\", alpha=0.35)\n",
    "ax2.set_title('Actual clusters')\n"
   ]
  },
  {
   "source": [
    "# List of sources.\n",
    "\n",
    "***\n",
    "\n",
    "<b> 1) DOCUMENTS AND REPORTS.</b>\n",
    "\n",
    "Datasets: \n",
    "<http://www.cs.toronto.edu/~delve/data/>\n",
    "\n",
    "GitHub Inc., “GitHub,”\n",
    "<https://github.com/>\n",
    "\n",
    "GMIT, “Quality Assurance Framework,”\n",
    "<https://www.gmit.ie/general/quality-assurance-framework>\n",
    "\n",
    "Matplotlib: Python plotting documentation:\n",
    "<https://matplotlib.org/>\n",
    "\n",
    "NumPy Documentation:\n",
    "<https://numpy.org/doc/stable/reference/random/>\n",
    "\n",
    "NumPy v1.19 Manual:\n",
    "<https://numpy.org/doc/stable/index.html>\n",
    "\n",
    "NumPy in general:\n",
    "<https://numpy.org/>\n",
    "\n",
    "pandas documentation:\n",
    "<https://pandas.pydata.org/docs/index.html>\n",
    "\n",
    "The Python Standard Library\n",
    "<https://docs.python.org/3/library/index.html>\n",
    "\n",
    "UCI Machine Learning Repository:\n",
    "<http://archive.ics.uci.edu/ml/datasets/Iris>\n",
    "\n",
    "\n",
    "\n",
    "\n",
    "***\n",
    "\n",
    "\n",
    "<b> 2) ARTICLES, MONOGRAPHS, STUDIES.</b>\n",
    "\n",
    "Encyclopaedia Britannica: \n",
    "<http://www.britannica.com/>\n",
    "\n",
    "Galli S., Python Feature Engineering Cookbook,  Birmingham 2020. \n",
    "\n",
    "Grus J., Data science od podstaw. Analiza danych w Pythonie. Wydanie II, Warszawa 2019. \n",
    "\n",
    "McLoughlin I., “Using git for assessments,”\n",
    "<https://github.com/ianmcloughlin/using-git-for-assessments/>\n",
    "\n",
    "McLoughlin I., “Jupyter Teaching Notebooks,”\n",
    "<https://github.com/ianmcloughlin/jupyter-teaching-notebooks/blob/master/fitting-lines.ipynb>\n",
    "\n",
    "Schweppes J., How to Think Write and Cite – key skills for Irish Law, Dublin 2011.\n",
    "\n",
    "Waugh S., Extending and benchmarking Cascade-Correlation, Tasmania 1995.\n",
    "\n",
    "VanderPlas J., A Whirlwind Tour of Python, Dublin 2016.\n",
    "\n",
    "VanderPlas J., Python Data Science Handbook: Essential Tools for Working with Data, Dublin 2016.\n",
    "\n",
    "\n",
    "***\n",
    "\n",
    "\n",
    "<b>INTERNET RESOURCES. </b>\n",
    "\n",
    "<https://www.w3schools.com/python/numpy_random.asp>\n",
    "\n",
    "<https://www.geeksforgeeks.org/numpy-random-rand-python/>\n",
    "\n",
    "<https://docs.scipy.org/doc/numpy-1.15.0/reference/routines.random.html>\n",
    "\n",
    "<https://www.markdownguide.org/getting-started/>\n",
    "\n",
    "<https://medium.com/@ingeh/markdown-for-jupyter-notebooks-cheatsheet-386c05aeebed>\n",
    "\n",
    "<https://github.com/>\n",
    "\n",
    "<https://en.wikipedia.org/wiki/Triangular_distribution>\n",
    "\n",
    "<https://gitter.im/GMIT-Python-Learners-2019/community>\n",
    "\n",
    "<https://docs.python.org/3/tutorial/>\n",
    "\n",
    "<https://leanpub.com/pyprog/read>\n",
    "\n",
    "<https://www.codecademy.com/courses/data-visualization-python/lessons/matplotlib-i/exercises/introduction-matplotlib-i>\n",
    "\n",
    "<http://www.cs.nott.ac.uk/~pszgmh/counting.pdf>\n",
    "\n",
    "<https://simplemaps.com/data/us-cities>\n",
    "\n",
    "<https://jupyter-notebook.readthedocs.io/en/stable/examples/Notebook/Working%20With%20Markdown%20Cells.html>\n",
    "\n",
    "<https://medium.com/@ingeh/markdown-for-jupyter-notebooks-cheatsheet-386c05aeebed#:~:text=Bullets%3A%20Use%20the%20dash%20sign,Numbered%20lists%3A%20Start%20with%201.>\n",
    "\n",
    "<https://www.codecademy.com/paths/>\n",
    "\n",
    "<https://www.codecademy.com/articles/how-to-use-jupyter-notebooks-py3>\n",
    "\n",
    "<https://simplemaps.com/data/canada-cities>\n",
    "\n",
    "<https://www.codecademy.com/learn/learn-python-3/modules/learn-python3-loops/cheatsheet>\n",
    "\n",
    "<https://pymotw.com/2/collections/counter.html>\n",
    "\n",
    "<https://www.tutorialspoint.com/python3/dictionary_get.htm>\n",
    "\n",
    "<https://jupyter.readthedocs.io/en/latest/>\n",
    "\n",
    "<https://stackoverflow.com/questions/3496518/using-a-dictionary-to-count-the-items-in-a-list>\n",
    "\n",
    "<https://www.kdnuggets.com/2020/09/simpsons-paradox.html>\n",
    "\n",
    "\n",
    "\n"
   ],
   "cell_type": "markdown",
   "metadata": {}
  }
 ],
 "metadata": {
  "kernelspec": {
   "name": "python383jvsc74a57bd0e2eb791fbaf3f507dd2894e17437c05eb6fe1eb7fcb23344d745a55910894744",
   "display_name": "Python 3.8.3 64-bit (conda)"
  },
  "language_info": {
   "codemirror_mode": {
    "name": "ipython",
    "version": 3
   },
   "file_extension": ".py",
   "mimetype": "text/x-python",
   "name": "python",
   "nbconvert_exporter": "python",
   "pygments_lexer": "ipython3",
   "version": "3.8.3"
  }
 },
 "nbformat": 4,
 "nbformat_minor": 4
}